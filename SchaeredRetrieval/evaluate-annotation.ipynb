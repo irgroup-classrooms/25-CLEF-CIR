{
 "cells": [
  {
   "cell_type": "code",
   "execution_count": 7,
   "metadata": {
    "colab": {
     "base_uri": "https://localhost:8080/"
    },
    "id": "vkB9Q_tIsuiH",
    "outputId": "48e3ec68-7d46-40df-e2b6-f9803fe8a725"
   },
   "outputs": [
    {
     "name": "stdout",
     "output_type": "stream",
     "text": [
      "Requirement already satisfied: krippendorff in /opt/conda/lib/python3.11/site-packages (0.8.1)\n",
      "Requirement already satisfied: numpy<3,>=1.21 in /opt/conda/lib/python3.11/site-packages (from krippendorff) (2.2.2)\n",
      "Requirement already satisfied: scikit-learn in /opt/conda/lib/python3.11/site-packages (1.6.1)\n",
      "Requirement already satisfied: numpy>=1.19.5 in /opt/conda/lib/python3.11/site-packages (from scikit-learn) (2.2.2)\n",
      "Requirement already satisfied: scipy>=1.6.0 in /opt/conda/lib/python3.11/site-packages (from scikit-learn) (1.15.1)\n",
      "Requirement already satisfied: joblib>=1.2.0 in /opt/conda/lib/python3.11/site-packages (from scikit-learn) (1.4.2)\n",
      "Requirement already satisfied: threadpoolctl>=3.1.0 in /opt/conda/lib/python3.11/site-packages (from scikit-learn) (3.6.0)\n"
     ]
    }
   ],
   "source": [
    "!pip install krippendorff\n",
    "!pip install scikit-learn\n",
    "import krippendorff\n",
    "import pandas as pd\n",
    "import numpy as np\n",
    "from sklearn.metrics import cohen_kappa_score, classification_report\n",
    "\n",
    "#Function to load and preprocess csv file\n",
    "def load_and_preprocess_csv(file_path, column_names, has_header=False):\n",
    "    \"\"\"\n",
    "    Loads a CSV file, assigns column names, and handles optional headers.\n",
    "\n",
    "    Args:\n",
    "        file_path (str): Path to the CSV file.\n",
    "        column_names (list): List of column names to assign.\n",
    "        has_header (bool): Whether the file has a header row.\n",
    "\n",
    "    Returns:\n",
    "        pd.DataFrame: Preprocessed DataFrame.\n",
    "    \"\"\"\n",
    "    if has_header:\n",
    "        df = pd.read_csv(file_path, header=0, names=column_names)\n",
    "    else:\n",
    "        df = pd.read_csv(file_path, header=None, names=column_names)\n",
    "    return df\n",
    "\n",
    "#Function to extract specific columns as lists\n",
    "def extract_columns(df, columns):\n",
    "    \"\"\"\n",
    "    Extracts specified columns from a DataFrame as lists.\n",
    "\n",
    "    Args:\n",
    "        df (pd.DataFrame): The DataFrame to extract from.\n",
    "        columns (list): List of column names to extract.\n",
    "\n",
    "    Returns:\n",
    "        dict: A dictionary with column names as keys and their corresponding lists as values.\n",
    "    \"\"\"\n",
    "    return {col: df[col].tolist() for col in columns}\n",
    "\n",
    "#Function to clean annotations\n",
    "def clean_annotations(annotations):\n",
    "    \"\"\"\n",
    "    Cleans a list of annotations by removing leading/trailing spaces and normalizing case.\n",
    "\n",
    "    Args:\n",
    "        annotations (list): List of annotations to clean.\n",
    "\n",
    "    Returns:\n",
    "        list: Cleaned list of annotations.\n",
    "    \"\"\"\n",
    "    return [annotation.strip().lower() for annotation in annotations]\n",
    "\n",
    "#Load and preprocess the csv files\n",
    "llm_results = load_and_preprocess_csv(\n",
    "    \"Query2_sampled_queries_2022-07_updated.csv\",\n",
    "    column_names=[\"qid\", \"query\", \"Answer\"],\n",
    "    has_header=True\n",
    ")\n",
    "\n",
    "group_results = load_and_preprocess_csv(\n",
    "    \"Annotatedv2_sampled_queries_2022-07.csv\",\n",
    "    column_names=[\"qid\", \"query\", \"Answer\"],\n",
    "    has_header=True\n",
    ")\n",
    "\n",
    "#Extract relevant columns\n",
    "llm_columns = extract_columns(llm_results, [\"qid\", \"query\", \"Answer\"])\n",
    "group_columns = extract_columns(group_results, [\"qid\", \"query\", \"Answer\"])\n",
    "\n",
    "#Assign extracted columns to variables for clarity\n",
    "queries = llm_columns[\"query\"]\n",
    "#Clean annotations\n",
    "annotations1 = clean_annotations(llm_columns[\"Answer\"])\n",
    "annotations2 = clean_annotations(group_columns[\"Answer\"])\n",
    "\n",
    "#Ensure that lists are of the same length for `llm_results`\n",
    "if not (len(queries) == len(annotations1) == len(annotations2)):\n",
    "    raise ValueError(\"Die Listen (queries, annotations1, annotations2) müssen gleich lang sein.\")"
   ]
  },
  {
   "cell_type": "code",
   "execution_count": 8,
   "metadata": {
    "id": "4Ji5FRegr2Uq"
   },
   "outputs": [],
   "source": [
    "#Kategorien sammeln\n",
    "categories = sorted(list(set(annotations1 + annotations2)))"
   ]
  },
  {
   "cell_type": "code",
   "execution_count": 9,
   "metadata": {
    "id": "5Rz2O141sOPv"
   },
   "outputs": [],
   "source": [
    "#Statistische Auswertungen\n",
    "def evaluate_annotations(annotations1, annotations2):\n",
    "    \"\"\"Vergleicht zwei Annotationen-Listen und gibt statistische Metriken zurück.\"\"\"\n",
    "\n",
    "    #Grundlegende Metriken\n",
    "    total = len(annotations1)\n",
    "    agreement = sum(a1 == a2 for a1, a2 in zip(annotations1, annotations2))\n",
    "    agreement_rate = agreement / total\n",
    "\n",
    "    #Cohen's Kappa\n",
    "    kappa = cohen_kappa_score(annotations1, annotations2, labels=categories)\n",
    "\n",
    "    #Krippendorff's Alpha\n",
    "    #Transform the annotations into a matrix format suitable for Krippendorff's alpha\n",
    "    data_matrix = np.array([annotations1, annotations2])\n",
    "    alpha = krippendorff.alpha(reliability_data=data_matrix, level_of_measurement='nominal')\n",
    "\n",
    "    #Detaillierter Report\n",
    "    report = classification_report(annotations1, annotations2, labels=categories, output_dict=True, zero_division=0)\n",
    "\n",
    "    return {\n",
    "        \"Total\": total,\n",
    "        \"Agreement\": agreement,\n",
    "        \"Agreement Rate\": agreement_rate,\n",
    "        \"Cohen's Kappa\": kappa,\n",
    "        \"Krippendorff's Alpha\": alpha,\n",
    "        \"Detailed Report\": report,\n",
    "    }"
   ]
  },
  {
   "cell_type": "code",
   "execution_count": 10,
   "metadata": {
    "id": "5SeFT_uKtStv"
   },
   "outputs": [],
   "source": [
    "#Auswerten\n",
    "ergebnisse = evaluate_annotations(annotations1, annotations2)"
   ]
  },
  {
   "cell_type": "code",
   "execution_count": 11,
   "metadata": {
    "colab": {
     "base_uri": "https://localhost:8080/"
    },
    "id": "SeyZaoeatXwO",
    "outputId": "88d81c38-0cc4-4109-c071-3fe64b9540e9"
   },
   "outputs": [
    {
     "name": "stdout",
     "output_type": "stream",
     "text": [
      "Statistische Auswertungen:\n",
      "Gesamtanzahl: 100\n",
      "Übereinstimmungen: 80\n",
      "Übereinstimmungsrate: 0.80\n",
      "Cohen's Kappa: 0.45\n",
      "Krippendorff's Alpha: 0.44\n",
      "\n",
      "Detaillierter Report:\n",
      "Kategorie 'explicit-temporal': {'precision': 1.0, 'recall': 0.5, 'f1-score': 0.6666666666666666, 'support': 2.0}\n",
      "Kategorie 'implicit-temporal': {'precision': 0.39285714285714285, 'recall': 0.7857142857142857, 'f1-score': 0.5238095238095238, 'support': 14.0}\n",
      "Kategorie 'not-temporal': {'precision': 0.9577464788732394, 'recall': 0.8095238095238095, 'f1-score': 0.8774193548387097, 'support': 84.0}\n",
      "Kategorie 'macro avg': {'precision': 0.7835345405767941, 'recall': 0.6984126984126983, 'f1-score': 0.6892985151049666, 'support': 100.0}\n",
      "Kategorie 'weighted avg': {'precision': 0.8795070422535212, 'recall': 0.8, 'f1-score': 0.8236989247311829, 'support': 100.0}\n"
     ]
    }
   ],
   "source": [
    "#Ergebnisse ausgeben\n",
    "print(\"Statistische Auswertungen:\")\n",
    "print(f\"Gesamtanzahl: {ergebnisse['Total']}\")\n",
    "print(f\"Übereinstimmungen: {ergebnisse['Agreement']}\")\n",
    "print(f\"Übereinstimmungsrate: {ergebnisse['Agreement Rate']:.2f}\")\n",
    "print(\"Cohen's Kappa: {:.2f}\".format(ergebnisse[\"Cohen's Kappa\"]))\n",
    "print(\"Krippendorff's Alpha: {:.2f}\".format(ergebnisse[\"Krippendorff's Alpha\"]))\n",
    "\n",
    "\n",
    "print(\"\\nDetaillierter Report:\")\n",
    "for label, metrics in ergebnisse['Detailed Report'].items():\n",
    "    if isinstance(metrics, dict):\n",
    "        print(f\"Kategorie '{label}': {metrics}\")"
   ]
  },
  {
   "cell_type": "code",
   "execution_count": 12,
   "metadata": {},
   "outputs": [
    {
     "name": "stdout",
     "output_type": "stream",
     "text": [
      "{'implicit-temporal', 'explicit-temporal', 'not-temporal'}\n",
      "{'implicit-temporal', 'explicit-temporal', 'not-temporal'}\n"
     ]
    }
   ],
   "source": [
    "print(set(annotations1))\n",
    "print(set(annotations2))"
   ]
  },
  {
   "cell_type": "code",
   "execution_count": null,
   "metadata": {},
   "outputs": [],
   "source": []
  }
 ],
 "metadata": {
  "colab": {
   "provenance": []
  },
  "kernelspec": {
   "display_name": "Python 3 (ipykernel)",
   "language": "python",
   "name": "python3"
  },
  "language_info": {
   "codemirror_mode": {
    "name": "ipython",
    "version": 3
   },
   "file_extension": ".py",
   "mimetype": "text/x-python",
   "name": "python",
   "nbconvert_exporter": "python",
   "pygments_lexer": "ipython3",
   "version": "3.11.6"
  }
 },
 "nbformat": 4,
 "nbformat_minor": 4
}

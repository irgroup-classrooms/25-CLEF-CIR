{
 "cells": [
  {
   "cell_type": "code",
   "execution_count": 1,
   "id": "2fa2f7cc-e9ae-4a01-9b64-149ec7820a76",
   "metadata": {},
   "outputs": [
    {
     "name": "stdout",
     "output_type": "stream",
     "text": [
      "Imports durchgelaufen\n"
     ]
    }
   ],
   "source": [
    "import pandas as pd\n",
    "from sqlalchemy import create_engine\n",
    "import psycopg2  \n",
    "import pyterrier as pt\n",
    "import os\n",
    "import numpy as np\n",
    "import gc\n",
    "print(\"Imports durchgelaufen\")\n",
    "\n",
    "\n",
    "\n",
    "###No Problemo"
   ]
  },
  {
   "cell_type": "code",
   "execution_count": 2,
   "id": "92a3b33c-a070-47e5-b1b7-e775741d2318",
   "metadata": {},
   "outputs": [
    {
     "name": "stderr",
     "output_type": "stream",
     "text": [
      "/tmp/ipykernel_255489/3210276138.py:2: DeprecationWarning: Call to deprecated function (or staticmethod) started. (use pt.java.started() instead) -- Deprecated since version 0.11.0.\n",
      "  if not pt.started():\n"
     ]
    },
    {
     "name": "stdout",
     "output_type": "stream",
     "text": [
      "PyTerrier gestartet\n"
     ]
    },
    {
     "name": "stderr",
     "output_type": "stream",
     "text": [
      "Java started and loaded: pyterrier.java, pyterrier.terrier.java [version=5.11 (build: craig.macdonald 2025-01-13 21:29), helper_version=0.0.8]\n",
      "/tmp/ipykernel_255489/3210276138.py:3: DeprecationWarning: Call to deprecated method pt.init(). Deprecated since version 0.11.0.\n",
      "java is now started automatically with default settings. To force initialisation early, run:\n",
      "pt.java.init() # optional, forces java initialisation\n",
      "  pt.init()\n"
     ]
    }
   ],
   "source": [
    "# ----- PyTerrier einmalig initialisieren --------------------------\n",
    "if not pt.started():        \n",
    "    pt.init()  \n",
    "print(\"PyTerrier gestartet\")\n",
    "###No Problemo"
   ]
  },
  {
   "cell_type": "code",
   "execution_count": 3,
   "id": "4f7d44af-cc5e-4215-b7f3-c4262138a4c1",
   "metadata": {},
   "outputs": [],
   "source": [
    "DATABASE = \"longeval-web\"\n",
    "USER = \"dis18\"\n",
    "HOST = \"db\"\n",
    "PORT = \"5432\"\n",
    "PASSWORD = \"dis182425\"\n",
    "\n",
    "engine = create_engine(f\"postgresql+psycopg2://{USER}:{PASSWORD}@{HOST}:{PORT}/{DATABASE}\")\n",
    "\n",
    "\n",
    "#No Problemo"
   ]
  },
  {
   "cell_type": "code",
   "execution_count": 4,
   "id": "e6d8d7ca-db3d-4ae3-9a40-3046ae1b608c",
   "metadata": {},
   "outputs": [
    {
     "name": "stdout",
     "output_type": "stream",
     "text": [
      "SQL eingelesen\n"
     ]
    }
   ],
   "source": [
    "# --- SQL Queries ---\n",
    "query_topic = \"\"\"\n",
    "SELECT DISTINCT\n",
    "    \"Topic\".\"queryid\" AS quer_id,    \n",
    "    \"Topic\".\"text_fr\" AS query,\n",
    "    \"sub_collection\" AS Zeitpunkt\n",
    "FROM \"Topic\"\n",
    "WHERE \"sub_collection\" = '2022-06';\n",
    "\"\"\"\n",
    "\n",
    "query_qrel = \"\"\"\n",
    "SELECT DISTINCT\n",
    "    \"Qrel\".\"relevance\" AS relevance,\n",
    "    \"queryid\" as quer_id,\n",
    "    \"docid\" as doc_id\n",
    "from \"Qrel\"\n",
    "WHERE \"sub_collection\" = '2022-06';\n",
    "\n",
    "\"\"\"\n",
    "\n",
    "query_document = \"\"\"\n",
    "SELECT \n",
    "    \"Document\".\"url\" AS url,\n",
    "    \"docid\" as doc_id\n",
    "from \"Document\"\n",
    "WHERE \"sub_collection\" = '2022-06';\n",
    "\"\"\"\n",
    "\n",
    "query_vorkommen = \"\"\"\n",
    "WITH url_counts AS (\n",
    "    SELECT \"url\", COUNT(*) AS \"Anzahl_Vorkommen\"\n",
    "    FROM \"Document\"  -- Fehlendes Anführungszeichen hier korrigiert\n",
    "    WHERE \"sub_collection\" = '2022-06'\n",
    "    GROUP BY \"url\"\n",
    ")\n",
    "SELECT \"url\", \"Anzahl_Vorkommen\" FROM url_counts;\n",
    "\"\"\"\n",
    "\n",
    "\n",
    "df_topic = pd.read_sql(query_topic, con=engine)\n",
    "df_qrel = pd.read_sql(query_qrel, con=engine)\n",
    "df_document = pd.read_sql(query_document, con=engine)\n",
    "df_vorkommen = pd.read_sql(query_vorkommen, con=engine)\n",
    "\n",
    "print(\"SQL eingelesen\")\n",
    "#No Problemo"
   ]
  },
  {
   "cell_type": "code",
   "execution_count": 5,
   "id": "fd49a4b6-ced2-4784-8122-316ac4a08513",
   "metadata": {},
   "outputs": [
    {
     "name": "stdout",
     "output_type": "stream",
     "text": [
      "Datensätze Optimiert\n"
     ]
    }
   ],
   "source": [
    "# --- Hilfsfunktion zur Speicheroptimierung ---\n",
    "def optimize_df_types(df: pd.DataFrame) -> pd.DataFrame:\n",
    "    \"\"\"Optimizes DataFrame types in-place for memory.\"\"\"\n",
    "    for col in df.columns:\n",
    "        col_type = df[col].dtype\n",
    "        try:\n",
    "            if col_type == 'float64':\n",
    "                df[col] = df[col].astype(np.float32)\n",
    "            elif col_type == 'int64':\n",
    "                df[col] = pd.to_numeric(df[col], downcast='integer')\n",
    "            elif col_type == 'object' and df[col].nunique() / len(df) < 0.5:\n",
    "                 df[col] = df[col].astype('category')\n",
    "        except Exception as e:\n",
    "             # Optional: minimal error print if needed\n",
    "             # print(f\"Skipping {col}: {e}\")\n",
    "             pass # Ignore errors to keep it short\n",
    "    return df\n",
    "\n",
    "list_of_dfs = [df_topic, df_qrel, df_document, df_vorkommen]\n",
    "optimized_list = [optimize_df_types(df) for df in list_of_dfs]\n",
    "\n",
    "print(\"Datensätze Optimiert\")\n",
    "\n",
    "#No Problemo"
   ]
  },
  {
   "cell_type": "code",
   "execution_count": 6,
   "id": "6b23efe9-a074-4323-81a9-66a71a0f364e",
   "metadata": {},
   "outputs": [
    {
     "name": "stdout",
     "output_type": "stream",
     "text": [
      "Merges durchgeführt\n"
     ]
    }
   ],
   "source": [
    "# --- Mergen der Dataframes ---\n",
    "\n",
    "merged_df = pd.merge(df_topic, df_qrel, on='quer_id',how='inner' )\n",
    "\n",
    "df_document['doc_id'] = df_document['doc_id'].str[3:]\n",
    "\n",
    "merged_df = pd.merge(merged_df, df_document, on='doc_id',how='inner' )\n",
    "\n",
    "merged_df = merged_df.drop_duplicates()\n",
    "\n",
    "merged_df = pd.merge(merged_df, df_vorkommen, on='url', how='inner')\n",
    "\n",
    "merged_df = merged_df.drop_duplicates()\n",
    "\n",
    "print('Merges durchgeführt')\n",
    "\n",
    "#No Problemo"
   ]
  },
  {
   "cell_type": "code",
   "execution_count": 7,
   "id": "4383c33d-5260-4f47-bf5b-c449aeed4588",
   "metadata": {},
   "outputs": [
    {
     "name": "stdout",
     "output_type": "stream",
     "text": [
      "RUN geladen\n"
     ]
    }
   ],
   "source": [
    "# --- BM25 Daten laden ---\n",
    "\n",
    "bm25_file = \"./RUNS/longeval-web-fr-2022-06-BM25.gz\"\n",
    "bm_df = pt.io.read_results(bm25_file)\n",
    "\n",
    "print('RUN geladen')\n",
    "\n",
    "#No Problemo"
   ]
  },
  {
   "cell_type": "code",
   "execution_count": 8,
   "id": "e987ce94-d40f-402a-ac9e-7f61953c50c0",
   "metadata": {},
   "outputs": [
    {
     "name": "stdout",
     "output_type": "stream",
     "text": [
      "Run optimiert\n"
     ]
    }
   ],
   "source": [
    "# --- Hilfsfunktion zur Speicheroptimierung bm_df ---\n",
    "def optimize_df_types(df: pd.DataFrame) -> pd.DataFrame:\n",
    "    \"\"\"Optimizes DataFrame types in-place for memory.\"\"\"\n",
    "    for col in df.columns:\n",
    "        col_type = df[col].dtype\n",
    "        try:\n",
    "            if col_type == 'float64':\n",
    "                df[col] = df[col].astype(np.float32)\n",
    "            elif col_type == 'int64':\n",
    "                df[col] = pd.to_numeric(df[col], downcast='integer')\n",
    "            elif col_type == 'object' and df[col].nunique() / len(df) < 0.5:\n",
    "                 df[col] = df[col].astype('category')\n",
    "        except Exception as e:\n",
    "             # Optional: minimal error print if needed\n",
    "             # print(f\"Skipping {col}: {e}\")\n",
    "             pass # Ignore errors to keep it short\n",
    "    return df\n",
    "\n",
    "list_of_dfs = [bm_df]\n",
    "optimized_list = [optimize_df_types(df) for df in list_of_dfs]\n",
    "print(\"Run optimiert\")\n",
    "#No Problemo"
   ]
  },
  {
   "cell_type": "code",
   "execution_count": 9,
   "id": "30bdcee9-527f-48d1-b446-4ad3bd0b7a96",
   "metadata": {},
   "outputs": [
    {
     "name": "stdout",
     "output_type": "stream",
     "text": [
      "            qid    docno      score       name\n",
      "0             3    27619  21.626516  pyterrier\n",
      "1             3   684186  21.172441  pyterrier\n",
      "2             3   637997  20.980433  pyterrier\n",
      "3             3   430968  20.889212  pyterrier\n",
      "4             3   673500  20.685411  pyterrier\n",
      "...         ...      ...        ...        ...\n",
      "23458308  75311     8861  13.525025  pyterrier\n",
      "23458309  75311   547317  13.523710  pyterrier\n",
      "23458310  75311  1554793  13.521506  pyterrier\n",
      "23458311  75311   606629  13.521164  pyterrier\n",
      "23458312  75311   597436  13.520813  pyterrier\n",
      "\n",
      "[23458313 rows x 4 columns]\n"
     ]
    }
   ],
   "source": [
    "#---Rank einschränken & Rank Drop\n",
    "bm_df = bm_df[bm_df['rank'] < 1000].copy()\n",
    "bm_df.drop(columns=['rank'], inplace=True)\n",
    "\n",
    "print(bm_df)"
   ]
  },
  {
   "cell_type": "code",
   "execution_count": 10,
   "id": "29488691-fd3c-4b37-9f47-3143f0595b91",
   "metadata": {},
   "outputs": [
    {
     "name": "stdout",
     "output_type": "stream",
     "text": [
      "            qid    docno      score       name                 query  \\\n",
      "0             3    27619  21.626516  pyterrier  1ere guerre mondiale   \n",
      "1             3    27619  21.626516  pyterrier  1ere guerre mondiale   \n",
      "2             3    27619  21.626516  pyterrier  1ere guerre mondiale   \n",
      "3             3    27619  21.626516  pyterrier  1ere guerre mondiale   \n",
      "4             3    27619  21.626516  pyterrier  1ere guerre mondiale   \n",
      "...         ...      ...        ...        ...                   ...   \n",
      "14143058  75311     8861  13.525025  pyterrier   emploi  territorial   \n",
      "14143059  75311   547317  13.523710  pyterrier   emploi  territorial   \n",
      "14143060  75311  1554793  13.521506  pyterrier   emploi  territorial   \n",
      "14143061  75311   606629  13.521164  pyterrier   emploi  territorial   \n",
      "14143062  75311   597436  13.520813  pyterrier   emploi  territorial   \n",
      "\n",
      "         zeitpunkt relevance doc_id  \\\n",
      "0          2022-06         0  21554   \n",
      "1          2022-06         0  12307   \n",
      "2          2022-06         0  21188   \n",
      "3          2022-06         2  17509   \n",
      "4          2022-06         1  14290   \n",
      "...            ...       ...    ...   \n",
      "14143058   2022-06         2  12400   \n",
      "14143059   2022-06         2  12400   \n",
      "14143060   2022-06         2  12400   \n",
      "14143061   2022-06         2  12400   \n",
      "14143062   2022-06         2  12400   \n",
      "\n",
      "                                                        url  Anzahl_Vorkommen  \n",
      "0                             https://www.supremacy1914.de/                 1  \n",
      "1                           https://www.hoogecrater.com/fr/                 1  \n",
      "2         https://www.lumni.fr/article/biographies-des-p...                 1  \n",
      "3         https://education.toutcomment.com/article/resu...                 1  \n",
      "4         https://www.francetvinfo.fr/societe/guerre-de-...                 2  \n",
      "...                                                     ...               ...  \n",
      "14143058                 https://www.emploi-territorial.fr/                 1  \n",
      "14143059                 https://www.emploi-territorial.fr/                 1  \n",
      "14143060                 https://www.emploi-territorial.fr/                 1  \n",
      "14143061                 https://www.emploi-territorial.fr/                 1  \n",
      "14143062                 https://www.emploi-territorial.fr/                 1  \n",
      "\n",
      "[14143063 rows x 10 columns]\n"
     ]
    }
   ],
   "source": [
    "# --- Final Merge ---\n",
    "merged_df.rename(columns={'quer_id': 'qid'}, inplace=True)\n",
    "merged_bm_df = pd.merge(bm_df, merged_df, on='qid', how='inner')\n",
    "print(merged_bm_df)"
   ]
  },
  {
   "cell_type": "code",
   "execution_count": 11,
   "id": "6ddce031-e303-4934-98cd-e6ee35796713",
   "metadata": {},
   "outputs": [],
   "source": [
    "merged_bm_df = merged_bm_df.drop_duplicates()"
   ]
  },
  {
   "cell_type": "code",
   "execution_count": 12,
   "id": "481ed1d0-470c-43af-9d94-e0624efa0036",
   "metadata": {},
   "outputs": [
    {
     "name": "stdout",
     "output_type": "stream",
     "text": [
      "                                          id  queryid  text_en  \\\n",
      "0       f72ba204-9502-4e2b-b5a3-886df465b726        3      NaN   \n",
      "1       238e44f2-87f9-49fb-93d2-70d983da668d        4      NaN   \n",
      "2       6e75448f-4832-4a59-acbf-e14722c3a48f        7      NaN   \n",
      "3       dd3e414c-78fd-4df9-a4fc-56d2ad8950b8        8      NaN   \n",
      "4       e25ebbf6-5250-4c29-b231-1dc1ede1683e        9      NaN   \n",
      "...                                      ...      ...      ...   \n",
      "153886  4a862cb1-1e72-4aac-a9da-d327eb050ebb    75421      NaN   \n",
      "153887  53700ef9-a867-45bb-809c-967973f9e68a    75422      NaN   \n",
      "153888  2d667e52-bbfd-486d-8647-19a2d40f1251    75423      NaN   \n",
      "153889  97e0a5eb-c4ca-4123-a73a-ab116afa58b4    75424      NaN   \n",
      "153890  e771d467-7848-4692-810a-220efc4fc4ee    75425      NaN   \n",
      "\n",
      "                                       query zeitpunkt split  tag  \n",
      "0                       1ere guerre mondiale   2022-06  test  0.2  \n",
      "1                   1ere guerre mondiale ce2   2022-06  test  0.9  \n",
      "2                           3949 pole emploi   2022-06  test  0.5  \n",
      "3                   4 mariages 1 enterrement   2022-06  test  0.2  \n",
      "4                              4k video down   2022-06  test  0.2  \n",
      "...                                      ...       ...   ...  ...  \n",
      "153886         domaine de chaumont-sur-loire   2023-08  test  0.2  \n",
      "153887  restaurant l'ile issy-les-moulineaux   2023-08  test  0.2  \n",
      "153888                      cateau-cambresis   2023-08  test  0.2  \n",
      "153889                    filet anti-oiseaux   2023-08  test  0.2  \n",
      "153890                     petit chauffe-eau   2023-08  test  0.1  \n",
      "\n",
      "[153891 rows x 7 columns]\n",
      "            qid    docno      score       name                 query  \\\n",
      "0             3    27619  21.626516  pyterrier  1ere guerre mondiale   \n",
      "1             3    27619  21.626516  pyterrier  1ere guerre mondiale   \n",
      "2             3    27619  21.626516  pyterrier  1ere guerre mondiale   \n",
      "3             3    27619  21.626516  pyterrier  1ere guerre mondiale   \n",
      "4             3    27619  21.626516  pyterrier  1ere guerre mondiale   \n",
      "...         ...      ...        ...        ...                   ...   \n",
      "14143058  75311     8861  13.525025  pyterrier   emploi  territorial   \n",
      "14143059  75311   547317  13.523710  pyterrier   emploi  territorial   \n",
      "14143060  75311  1554793  13.521506  pyterrier   emploi  territorial   \n",
      "14143061  75311   606629  13.521164  pyterrier   emploi  territorial   \n",
      "14143062  75311   597436  13.520813  pyterrier   emploi  territorial   \n",
      "\n",
      "         zeitpunkt relevance doc_id  \\\n",
      "0          2022-06         0  21554   \n",
      "1          2022-06         0  12307   \n",
      "2          2022-06         0  21188   \n",
      "3          2022-06         2  17509   \n",
      "4          2022-06         1  14290   \n",
      "...            ...       ...    ...   \n",
      "14143058   2022-06         2  12400   \n",
      "14143059   2022-06         2  12400   \n",
      "14143060   2022-06         2  12400   \n",
      "14143061   2022-06         2  12400   \n",
      "14143062   2022-06         2  12400   \n",
      "\n",
      "                                                        url  Anzahl_Vorkommen  \\\n",
      "0                             https://www.supremacy1914.de/                 1   \n",
      "1                           https://www.hoogecrater.com/fr/                 1   \n",
      "2         https://www.lumni.fr/article/biographies-des-p...                 1   \n",
      "3         https://education.toutcomment.com/article/resu...                 1   \n",
      "4         https://www.francetvinfo.fr/societe/guerre-de-...                 2   \n",
      "...                                                     ...               ...   \n",
      "14143058                 https://www.emploi-territorial.fr/                 1   \n",
      "14143059                 https://www.emploi-territorial.fr/                 1   \n",
      "14143060                 https://www.emploi-territorial.fr/                 1   \n",
      "14143061                 https://www.emploi-territorial.fr/                 1   \n",
      "14143062                 https://www.emploi-territorial.fr/                 1   \n",
      "\n",
      "                                            id  queryid  text_en split  tag  \n",
      "0         f72ba204-9502-4e2b-b5a3-886df465b726        3      NaN  test  0.2  \n",
      "1         f72ba204-9502-4e2b-b5a3-886df465b726        3      NaN  test  0.2  \n",
      "2         f72ba204-9502-4e2b-b5a3-886df465b726        3      NaN  test  0.2  \n",
      "3         f72ba204-9502-4e2b-b5a3-886df465b726        3      NaN  test  0.2  \n",
      "4         f72ba204-9502-4e2b-b5a3-886df465b726        3      NaN  test  0.2  \n",
      "...                                        ...      ...      ...   ...  ...  \n",
      "14143058  f078acbb-89dc-4e81-be88-29e6d09733e3    75311      NaN  test  0.2  \n",
      "14143059  f078acbb-89dc-4e81-be88-29e6d09733e3    75311      NaN  test  0.2  \n",
      "14143060  f078acbb-89dc-4e81-be88-29e6d09733e3    75311      NaN  test  0.2  \n",
      "14143061  f078acbb-89dc-4e81-be88-29e6d09733e3    75311      NaN  test  0.2  \n",
      "14143062  f078acbb-89dc-4e81-be88-29e6d09733e3    75311      NaN  test  0.2  \n",
      "\n",
      "[14143063 rows x 15 columns]\n"
     ]
    }
   ],
   "source": [
    "#--- Time-Tag Merge---\n",
    "Time_Tags = pd.read_csv('./Topics_With_TimeTags.csv')\n",
    "Time_Tags.rename(columns={'sub_collection': 'zeitpunkt'}, inplace=True)\n",
    "\n",
    "print(Time_Tags)\n",
    "Final_df = pd.merge(merged_bm_df, Time_Tags, on=['query', 'zeitpunkt'], how='inner')\n",
    "print(Final_df)"
   ]
  },
  {
   "cell_type": "code",
   "execution_count": 13,
   "id": "d3576cb0-8b23-416b-ad15-59042cd69cfc",
   "metadata": {},
   "outputs": [
    {
     "data": {
      "text/plain": [
       "array([0.2, 0.9, 0.5, 0.1, 0.3, 0.8, 0.7, 0. , 1. ])"
      ]
     },
     "execution_count": 13,
     "metadata": {},
     "output_type": "execute_result"
    }
   ],
   "source": [
    "#Test der Columns \n",
    "Final_df.drop(columns=['id'], inplace=True)\n",
    "Final_df.drop(columns=['text_en'], inplace=True)\n",
    "Final_df.drop(columns=['split'], inplace=True)\n",
    "\n",
    "\n",
    "Final_df = Final_df.drop_duplicates()\n",
    "\n",
    "Final_df['tag'].unique()"
   ]
  },
  {
   "cell_type": "code",
   "execution_count": 14,
   "id": "9c3ef359-67b1-457a-be98-94949a5e8203",
   "metadata": {},
   "outputs": [
    {
     "name": "stdout",
     "output_type": "stream",
     "text": [
      "         query_id  docno      score  Anzahl_Vorkommen  tag\n",
      "0               3  21554  21.626516                 1  0.2\n",
      "1               3  12307  21.626516                 1  0.2\n",
      "2               3  21188  21.626516                 1  0.2\n",
      "3               3  17509  21.626516                 1  0.2\n",
      "4               3  14290  21.626516                 2  0.2\n",
      "...           ...    ...        ...               ...  ...\n",
      "14143058    75311  12400  13.525025                 1  0.2\n",
      "14143059    75311  12400  13.523710                 1  0.2\n",
      "14143060    75311  12400  13.521506                 1  0.2\n",
      "14143061    75311  12400  13.521164                 1  0.2\n",
      "14143062    75311  12400  13.520813                 1  0.2\n",
      "\n",
      "[14143063 rows x 5 columns]\n",
      "      relevance quer_id doc_id\n",
      "0             0   17314   7967\n",
      "1             0   14495  28630\n",
      "2             0    7480  18789\n",
      "3             0    3000  19163\n",
      "4             1    5972   1869\n",
      "...         ...     ...    ...\n",
      "48857         1   19771   4233\n",
      "48858         0    5067  27977\n",
      "48859         0      73  27220\n",
      "48860         2   11608   9857\n",
      "48861         0   20427  14654\n",
      "\n",
      "[48862 rows x 3 columns]\n"
     ]
    }
   ],
   "source": [
    "#Final_df['Kombinierter_Score']  = (1 * Final_df['score']) + (1 * Final_df['Anzahl_Vorkommen']) + (1 * Final_df['tag']) \n",
    "Final_df['Kombinierter_Score']  = Final_df['score']\n",
    "\n",
    "Final_df_for_evaluation = Final_df[['qid', 'doc_id', 'Kombinierter_Score', 'Anzahl_Vorkommen', 'tag']].rename(columns={\n",
    "    'doc_id': 'docno',             \n",
    "    'Kombinierter_Score': 'score',\n",
    "    'qid': 'query_id'\n",
    "})\n",
    "\n",
    "print(Final_df_for_evaluation)\n",
    "print(df_qrel)"
   ]
  },
  {
   "cell_type": "code",
   "execution_count": 15,
   "id": "08e7d63f-279a-4a58-a2c4-9cb246c92783",
   "metadata": {},
   "outputs": [
    {
     "name": "stdout",
     "output_type": "stream",
     "text": [
      "Weights: {'w_score': 1000, 'w_anzahl': 1000, 'w_tag': 1000}, Results: {'map': 0.19416178586720195, 'P_10': 0.04634052978104562, 'ndcg': 0.20577835751041382}\n",
      "Weights: {'w_score': 1000, 'w_anzahl': 1000, 'w_tag': 3000}, Results: {'map': 0.19416178586720192, 'P_10': 0.046340529781045636, 'ndcg': 0.20577835751041382}\n",
      "Weights: {'w_score': 1000, 'w_anzahl': 1000, 'w_tag': 10000}, Results: {'map': 0.19416178586720195, 'P_10': 0.04634052978104566, 'ndcg': 0.20577835751041387}\n",
      "Weights: {'w_score': 1000, 'w_anzahl': 1000, 'w_tag': 100000000}, Results: {'map': 0.19416178586720145, 'P_10': 0.046340529781045615, 'ndcg': 0.20577835751041337}\n",
      "Weights: {'w_score': 1000, 'w_anzahl': 3000, 'w_tag': 1000}, Results: {'map': 0.19416178586720195, 'P_10': 0.04634052978104563, 'ndcg': 0.2057783575104137}\n",
      "Weights: {'w_score': 1000, 'w_anzahl': 3000, 'w_tag': 3000}, Results: {'map': 0.19416178586720192, 'P_10': 0.046340529781045636, 'ndcg': 0.2057783575104138}\n",
      "Weights: {'w_score': 1000, 'w_anzahl': 3000, 'w_tag': 10000}, Results: {'map': 0.19416178586720192, 'P_10': 0.04634052978104566, 'ndcg': 0.20577835751041385}\n",
      "Weights: {'w_score': 1000, 'w_anzahl': 3000, 'w_tag': 100000000}, Results: {'map': 0.19416178586720145, 'P_10': 0.04634052978104562, 'ndcg': 0.20577835751041332}\n",
      "Weights: {'w_score': 1000, 'w_anzahl': 10000, 'w_tag': 1000}, Results: {'map': 0.194161785867202, 'P_10': 0.04634052978104565, 'ndcg': 0.2057783575104136}\n",
      "Weights: {'w_score': 1000, 'w_anzahl': 10000, 'w_tag': 3000}, Results: {'map': 0.19416178586720204, 'P_10': 0.04634052978104565, 'ndcg': 0.20577835751041368}\n",
      "Weights: {'w_score': 1000, 'w_anzahl': 10000, 'w_tag': 10000}, Results: {'map': 0.1941617858672019, 'P_10': 0.046340529781045685, 'ndcg': 0.20577835751041373}\n",
      "Weights: {'w_score': 1000, 'w_anzahl': 10000, 'w_tag': 100000000}, Results: {'map': 0.19416178586720145, 'P_10': 0.04634052978104562, 'ndcg': 0.20577835751041332}\n",
      "Weights: {'w_score': 1000, 'w_anzahl': 100000000, 'w_tag': 1000}, Results: {'map': 0.194161785867202, 'P_10': 0.04634052978104566, 'ndcg': 0.20577835751041365}\n",
      "Weights: {'w_score': 1000, 'w_anzahl': 100000000, 'w_tag': 3000}, Results: {'map': 0.19416178586720204, 'P_10': 0.046340529781045664, 'ndcg': 0.20577835751041373}\n",
      "Weights: {'w_score': 1000, 'w_anzahl': 100000000, 'w_tag': 10000}, Results: {'map': 0.1941617858672019, 'P_10': 0.04634052978104569, 'ndcg': 0.20577835751041382}\n",
      "Weights: {'w_score': 1000, 'w_anzahl': 100000000, 'w_tag': 100000000}, Results: {'map': 0.19416178586720137, 'P_10': 0.046340529781045664, 'ndcg': 0.20577835751041326}\n",
      "Weights: {'w_score': 3000, 'w_anzahl': 1000, 'w_tag': 1000}, Results: {'map': 0.194161785867202, 'P_10': 0.0463405297810456, 'ndcg': 0.2057783575104138}\n",
      "Weights: {'w_score': 3000, 'w_anzahl': 1000, 'w_tag': 3000}, Results: {'map': 0.19416178586720195, 'P_10': 0.04634052978104562, 'ndcg': 0.20577835751041385}\n",
      "Weights: {'w_score': 3000, 'w_anzahl': 1000, 'w_tag': 10000}, Results: {'map': 0.19416178586720192, 'P_10': 0.04634052978104565, 'ndcg': 0.20577835751041382}\n",
      "Weights: {'w_score': 3000, 'w_anzahl': 1000, 'w_tag': 100000000}, Results: {'map': 0.19416178586720145, 'P_10': 0.046340529781045615, 'ndcg': 0.20577835751041337}\n",
      "Weights: {'w_score': 3000, 'w_anzahl': 3000, 'w_tag': 1000}, Results: {'map': 0.19416178586720204, 'P_10': 0.0463405297810456, 'ndcg': 0.20577835751041382}\n",
      "Weights: {'w_score': 3000, 'w_anzahl': 3000, 'w_tag': 3000}, Results: {'map': 0.19416178586720195, 'P_10': 0.04634052978104562, 'ndcg': 0.20577835751041382}\n",
      "Weights: {'w_score': 3000, 'w_anzahl': 3000, 'w_tag': 10000}, Results: {'map': 0.19416178586720195, 'P_10': 0.046340529781045636, 'ndcg': 0.2057783575104138}\n",
      "Weights: {'w_score': 3000, 'w_anzahl': 3000, 'w_tag': 100000000}, Results: {'map': 0.19416178586720145, 'P_10': 0.046340529781045615, 'ndcg': 0.20577835751041337}\n",
      "Weights: {'w_score': 3000, 'w_anzahl': 10000, 'w_tag': 1000}, Results: {'map': 0.19416178586720195, 'P_10': 0.04634052978104562, 'ndcg': 0.20577835751041368}\n",
      "Weights: {'w_score': 3000, 'w_anzahl': 10000, 'w_tag': 3000}, Results: {'map': 0.19416178586720195, 'P_10': 0.046340529781045636, 'ndcg': 0.2057783575104137}\n",
      "Weights: {'w_score': 3000, 'w_anzahl': 10000, 'w_tag': 10000}, Results: {'map': 0.19416178586720195, 'P_10': 0.04634052978104565, 'ndcg': 0.2057783575104138}\n",
      "Weights: {'w_score': 3000, 'w_anzahl': 10000, 'w_tag': 100000000}, Results: {'map': 0.19416178586720145, 'P_10': 0.04634052978104562, 'ndcg': 0.20577835751041332}\n",
      "Weights: {'w_score': 3000, 'w_anzahl': 100000000, 'w_tag': 1000}, Results: {'map': 0.194161785867202, 'P_10': 0.04634052978104566, 'ndcg': 0.20577835751041368}\n",
      "Weights: {'w_score': 3000, 'w_anzahl': 100000000, 'w_tag': 3000}, Results: {'map': 0.194161785867202, 'P_10': 0.04634052978104566, 'ndcg': 0.20577835751041365}\n",
      "Weights: {'w_score': 3000, 'w_anzahl': 100000000, 'w_tag': 10000}, Results: {'map': 0.194161785867202, 'P_10': 0.04634052978104566, 'ndcg': 0.20577835751041373}\n",
      "Weights: {'w_score': 3000, 'w_anzahl': 100000000, 'w_tag': 100000000}, Results: {'map': 0.19416178586720137, 'P_10': 0.046340529781045664, 'ndcg': 0.20577835751041326}\n",
      "Weights: {'w_score': 10000, 'w_anzahl': 1000, 'w_tag': 1000}, Results: {'map': 0.19416178586720195, 'P_10': 0.0463405297810456, 'ndcg': 0.20577835751041373}\n",
      "Weights: {'w_score': 10000, 'w_anzahl': 1000, 'w_tag': 3000}, Results: {'map': 0.19416178586720195, 'P_10': 0.0463405297810456, 'ndcg': 0.2057783575104138}\n",
      "Weights: {'w_score': 10000, 'w_anzahl': 1000, 'w_tag': 10000}, Results: {'map': 0.19416178586720195, 'P_10': 0.04634052978104562, 'ndcg': 0.20577835751041382}\n",
      "Weights: {'w_score': 10000, 'w_anzahl': 1000, 'w_tag': 100000000}, Results: {'map': 0.19416178586720145, 'P_10': 0.046340529781045615, 'ndcg': 0.20577835751041337}\n",
      "Weights: {'w_score': 10000, 'w_anzahl': 3000, 'w_tag': 1000}, Results: {'map': 0.19416178586720195, 'P_10': 0.0463405297810456, 'ndcg': 0.20577835751041373}\n",
      "Weights: {'w_score': 10000, 'w_anzahl': 3000, 'w_tag': 3000}, Results: {'map': 0.194161785867202, 'P_10': 0.0463405297810456, 'ndcg': 0.2057783575104138}\n",
      "Weights: {'w_score': 10000, 'w_anzahl': 3000, 'w_tag': 10000}, Results: {'map': 0.19416178586720195, 'P_10': 0.04634052978104562, 'ndcg': 0.20577835751041382}\n",
      "Weights: {'w_score': 10000, 'w_anzahl': 3000, 'w_tag': 100000000}, Results: {'map': 0.19416178586720145, 'P_10': 0.046340529781045615, 'ndcg': 0.20577835751041337}\n",
      "Weights: {'w_score': 10000, 'w_anzahl': 10000, 'w_tag': 1000}, Results: {'map': 0.194161785867202, 'P_10': 0.0463405297810456, 'ndcg': 0.20577835751041373}\n",
      "Weights: {'w_score': 10000, 'w_anzahl': 10000, 'w_tag': 3000}, Results: {'map': 0.19416178586720204, 'P_10': 0.0463405297810456, 'ndcg': 0.2057783575104138}\n",
      "Weights: {'w_score': 10000, 'w_anzahl': 10000, 'w_tag': 10000}, Results: {'map': 0.19416178586720195, 'P_10': 0.04634052978104562, 'ndcg': 0.20577835751041382}\n",
      "Weights: {'w_score': 10000, 'w_anzahl': 10000, 'w_tag': 100000000}, Results: {'map': 0.19416178586720145, 'P_10': 0.046340529781045615, 'ndcg': 0.20577835751041337}\n",
      "Weights: {'w_score': 10000, 'w_anzahl': 100000000, 'w_tag': 1000}, Results: {'map': 0.194161785867202, 'P_10': 0.04634052978104566, 'ndcg': 0.2057783575104137}\n",
      "Weights: {'w_score': 10000, 'w_anzahl': 100000000, 'w_tag': 3000}, Results: {'map': 0.194161785867202, 'P_10': 0.04634052978104566, 'ndcg': 0.20577835751041368}\n",
      "Weights: {'w_score': 10000, 'w_anzahl': 100000000, 'w_tag': 10000}, Results: {'map': 0.194161785867202, 'P_10': 0.04634052978104566, 'ndcg': 0.20577835751041365}\n",
      "Weights: {'w_score': 10000, 'w_anzahl': 100000000, 'w_tag': 100000000}, Results: {'map': 0.19416178586720137, 'P_10': 0.046340529781045664, 'ndcg': 0.20577835751041326}\n",
      "Weights: {'w_score': 100000000, 'w_anzahl': 1000, 'w_tag': 1000}, Results: {'map': 0.19416178586720192, 'P_10': 0.0463405297810456, 'ndcg': 0.20577835751041373}\n",
      "Weights: {'w_score': 100000000, 'w_anzahl': 1000, 'w_tag': 3000}, Results: {'map': 0.19416178586720192, 'P_10': 0.0463405297810456, 'ndcg': 0.20577835751041373}\n",
      "Weights: {'w_score': 100000000, 'w_anzahl': 1000, 'w_tag': 10000}, Results: {'map': 0.19416178586720192, 'P_10': 0.0463405297810456, 'ndcg': 0.20577835751041373}\n",
      "Weights: {'w_score': 100000000, 'w_anzahl': 1000, 'w_tag': 100000000}, Results: {'map': 0.19416178586720195, 'P_10': 0.04634052978104562, 'ndcg': 0.20577835751041385}\n",
      "Weights: {'w_score': 100000000, 'w_anzahl': 3000, 'w_tag': 1000}, Results: {'map': 0.19416178586720192, 'P_10': 0.0463405297810456, 'ndcg': 0.20577835751041373}\n",
      "Weights: {'w_score': 100000000, 'w_anzahl': 3000, 'w_tag': 3000}, Results: {'map': 0.19416178586720192, 'P_10': 0.0463405297810456, 'ndcg': 0.20577835751041373}\n",
      "Weights: {'w_score': 100000000, 'w_anzahl': 3000, 'w_tag': 10000}, Results: {'map': 0.19416178586720192, 'P_10': 0.0463405297810456, 'ndcg': 0.20577835751041373}\n",
      "Weights: {'w_score': 100000000, 'w_anzahl': 3000, 'w_tag': 100000000}, Results: {'map': 0.19416178586720195, 'P_10': 0.04634052978104562, 'ndcg': 0.20577835751041385}\n",
      "Weights: {'w_score': 100000000, 'w_anzahl': 10000, 'w_tag': 1000}, Results: {'map': 0.19416178586720192, 'P_10': 0.0463405297810456, 'ndcg': 0.20577835751041373}\n",
      "Weights: {'w_score': 100000000, 'w_anzahl': 10000, 'w_tag': 3000}, Results: {'map': 0.19416178586720192, 'P_10': 0.0463405297810456, 'ndcg': 0.20577835751041373}\n",
      "Weights: {'w_score': 100000000, 'w_anzahl': 10000, 'w_tag': 10000}, Results: {'map': 0.19416178586720192, 'P_10': 0.0463405297810456, 'ndcg': 0.20577835751041373}\n",
      "Weights: {'w_score': 100000000, 'w_anzahl': 10000, 'w_tag': 100000000}, Results: {'map': 0.19416178586720195, 'P_10': 0.04634052978104562, 'ndcg': 0.20577835751041385}\n",
      "Weights: {'w_score': 100000000, 'w_anzahl': 100000000, 'w_tag': 1000}, Results: {'map': 0.19416178586720195, 'P_10': 0.046340529781045595, 'ndcg': 0.20577835751041373}\n",
      "Weights: {'w_score': 100000000, 'w_anzahl': 100000000, 'w_tag': 3000}, Results: {'map': 0.19416178586720195, 'P_10': 0.046340529781045595, 'ndcg': 0.20577835751041373}\n",
      "Weights: {'w_score': 100000000, 'w_anzahl': 100000000, 'w_tag': 10000}, Results: {'map': 0.19416178586720195, 'P_10': 0.046340529781045595, 'ndcg': 0.20577835751041373}\n",
      "Weights: {'w_score': 100000000, 'w_anzahl': 100000000, 'w_tag': 100000000}, Results: {'map': 0.19416178586720195, 'P_10': 0.04634052978104562, 'ndcg': 0.20577835751041382}\n",
      "{(('w_anzahl', 1000), ('w_score', 1000), ('w_tag', 1000)): {'map': 0.19416178586720195, 'P_10': 0.04634052978104562, 'ndcg': 0.20577835751041382}, (('w_anzahl', 1000), ('w_score', 1000), ('w_tag', 3000)): {'map': 0.19416178586720192, 'P_10': 0.046340529781045636, 'ndcg': 0.20577835751041382}, (('w_anzahl', 1000), ('w_score', 1000), ('w_tag', 10000)): {'map': 0.19416178586720195, 'P_10': 0.04634052978104566, 'ndcg': 0.20577835751041387}, (('w_anzahl', 1000), ('w_score', 1000), ('w_tag', 100000000)): {'map': 0.19416178586720145, 'P_10': 0.046340529781045615, 'ndcg': 0.20577835751041337}, (('w_anzahl', 3000), ('w_score', 1000), ('w_tag', 1000)): {'map': 0.19416178586720195, 'P_10': 0.04634052978104563, 'ndcg': 0.2057783575104137}, (('w_anzahl', 3000), ('w_score', 1000), ('w_tag', 3000)): {'map': 0.19416178586720192, 'P_10': 0.046340529781045636, 'ndcg': 0.2057783575104138}, (('w_anzahl', 3000), ('w_score', 1000), ('w_tag', 10000)): {'map': 0.19416178586720192, 'P_10': 0.04634052978104566, 'ndcg': 0.20577835751041385}, (('w_anzahl', 3000), ('w_score', 1000), ('w_tag', 100000000)): {'map': 0.19416178586720145, 'P_10': 0.04634052978104562, 'ndcg': 0.20577835751041332}, (('w_anzahl', 10000), ('w_score', 1000), ('w_tag', 1000)): {'map': 0.194161785867202, 'P_10': 0.04634052978104565, 'ndcg': 0.2057783575104136}, (('w_anzahl', 10000), ('w_score', 1000), ('w_tag', 3000)): {'map': 0.19416178586720204, 'P_10': 0.04634052978104565, 'ndcg': 0.20577835751041368}, (('w_anzahl', 10000), ('w_score', 1000), ('w_tag', 10000)): {'map': 0.1941617858672019, 'P_10': 0.046340529781045685, 'ndcg': 0.20577835751041373}, (('w_anzahl', 10000), ('w_score', 1000), ('w_tag', 100000000)): {'map': 0.19416178586720145, 'P_10': 0.04634052978104562, 'ndcg': 0.20577835751041332}, (('w_anzahl', 100000000), ('w_score', 1000), ('w_tag', 1000)): {'map': 0.194161785867202, 'P_10': 0.04634052978104566, 'ndcg': 0.20577835751041365}, (('w_anzahl', 100000000), ('w_score', 1000), ('w_tag', 3000)): {'map': 0.19416178586720204, 'P_10': 0.046340529781045664, 'ndcg': 0.20577835751041373}, (('w_anzahl', 100000000), ('w_score', 1000), ('w_tag', 10000)): {'map': 0.1941617858672019, 'P_10': 0.04634052978104569, 'ndcg': 0.20577835751041382}, (('w_anzahl', 100000000), ('w_score', 1000), ('w_tag', 100000000)): {'map': 0.19416178586720137, 'P_10': 0.046340529781045664, 'ndcg': 0.20577835751041326}, (('w_anzahl', 1000), ('w_score', 3000), ('w_tag', 1000)): {'map': 0.194161785867202, 'P_10': 0.0463405297810456, 'ndcg': 0.2057783575104138}, (('w_anzahl', 1000), ('w_score', 3000), ('w_tag', 3000)): {'map': 0.19416178586720195, 'P_10': 0.04634052978104562, 'ndcg': 0.20577835751041385}, (('w_anzahl', 1000), ('w_score', 3000), ('w_tag', 10000)): {'map': 0.19416178586720192, 'P_10': 0.04634052978104565, 'ndcg': 0.20577835751041382}, (('w_anzahl', 1000), ('w_score', 3000), ('w_tag', 100000000)): {'map': 0.19416178586720145, 'P_10': 0.046340529781045615, 'ndcg': 0.20577835751041337}, (('w_anzahl', 3000), ('w_score', 3000), ('w_tag', 1000)): {'map': 0.19416178586720204, 'P_10': 0.0463405297810456, 'ndcg': 0.20577835751041382}, (('w_anzahl', 3000), ('w_score', 3000), ('w_tag', 3000)): {'map': 0.19416178586720195, 'P_10': 0.04634052978104562, 'ndcg': 0.20577835751041382}, (('w_anzahl', 3000), ('w_score', 3000), ('w_tag', 10000)): {'map': 0.19416178586720195, 'P_10': 0.046340529781045636, 'ndcg': 0.2057783575104138}, (('w_anzahl', 3000), ('w_score', 3000), ('w_tag', 100000000)): {'map': 0.19416178586720145, 'P_10': 0.046340529781045615, 'ndcg': 0.20577835751041337}, (('w_anzahl', 10000), ('w_score', 3000), ('w_tag', 1000)): {'map': 0.19416178586720195, 'P_10': 0.04634052978104562, 'ndcg': 0.20577835751041368}, (('w_anzahl', 10000), ('w_score', 3000), ('w_tag', 3000)): {'map': 0.19416178586720195, 'P_10': 0.046340529781045636, 'ndcg': 0.2057783575104137}, (('w_anzahl', 10000), ('w_score', 3000), ('w_tag', 10000)): {'map': 0.19416178586720195, 'P_10': 0.04634052978104565, 'ndcg': 0.2057783575104138}, (('w_anzahl', 10000), ('w_score', 3000), ('w_tag', 100000000)): {'map': 0.19416178586720145, 'P_10': 0.04634052978104562, 'ndcg': 0.20577835751041332}, (('w_anzahl', 100000000), ('w_score', 3000), ('w_tag', 1000)): {'map': 0.194161785867202, 'P_10': 0.04634052978104566, 'ndcg': 0.20577835751041368}, (('w_anzahl', 100000000), ('w_score', 3000), ('w_tag', 3000)): {'map': 0.194161785867202, 'P_10': 0.04634052978104566, 'ndcg': 0.20577835751041365}, (('w_anzahl', 100000000), ('w_score', 3000), ('w_tag', 10000)): {'map': 0.194161785867202, 'P_10': 0.04634052978104566, 'ndcg': 0.20577835751041373}, (('w_anzahl', 100000000), ('w_score', 3000), ('w_tag', 100000000)): {'map': 0.19416178586720137, 'P_10': 0.046340529781045664, 'ndcg': 0.20577835751041326}, (('w_anzahl', 1000), ('w_score', 10000), ('w_tag', 1000)): {'map': 0.19416178586720195, 'P_10': 0.0463405297810456, 'ndcg': 0.20577835751041373}, (('w_anzahl', 1000), ('w_score', 10000), ('w_tag', 3000)): {'map': 0.19416178586720195, 'P_10': 0.0463405297810456, 'ndcg': 0.2057783575104138}, (('w_anzahl', 1000), ('w_score', 10000), ('w_tag', 10000)): {'map': 0.19416178586720195, 'P_10': 0.04634052978104562, 'ndcg': 0.20577835751041382}, (('w_anzahl', 1000), ('w_score', 10000), ('w_tag', 100000000)): {'map': 0.19416178586720145, 'P_10': 0.046340529781045615, 'ndcg': 0.20577835751041337}, (('w_anzahl', 3000), ('w_score', 10000), ('w_tag', 1000)): {'map': 0.19416178586720195, 'P_10': 0.0463405297810456, 'ndcg': 0.20577835751041373}, (('w_anzahl', 3000), ('w_score', 10000), ('w_tag', 3000)): {'map': 0.194161785867202, 'P_10': 0.0463405297810456, 'ndcg': 0.2057783575104138}, (('w_anzahl', 3000), ('w_score', 10000), ('w_tag', 10000)): {'map': 0.19416178586720195, 'P_10': 0.04634052978104562, 'ndcg': 0.20577835751041382}, (('w_anzahl', 3000), ('w_score', 10000), ('w_tag', 100000000)): {'map': 0.19416178586720145, 'P_10': 0.046340529781045615, 'ndcg': 0.20577835751041337}, (('w_anzahl', 10000), ('w_score', 10000), ('w_tag', 1000)): {'map': 0.194161785867202, 'P_10': 0.0463405297810456, 'ndcg': 0.20577835751041373}, (('w_anzahl', 10000), ('w_score', 10000), ('w_tag', 3000)): {'map': 0.19416178586720204, 'P_10': 0.0463405297810456, 'ndcg': 0.2057783575104138}, (('w_anzahl', 10000), ('w_score', 10000), ('w_tag', 10000)): {'map': 0.19416178586720195, 'P_10': 0.04634052978104562, 'ndcg': 0.20577835751041382}, (('w_anzahl', 10000), ('w_score', 10000), ('w_tag', 100000000)): {'map': 0.19416178586720145, 'P_10': 0.046340529781045615, 'ndcg': 0.20577835751041337}, (('w_anzahl', 100000000), ('w_score', 10000), ('w_tag', 1000)): {'map': 0.194161785867202, 'P_10': 0.04634052978104566, 'ndcg': 0.2057783575104137}, (('w_anzahl', 100000000), ('w_score', 10000), ('w_tag', 3000)): {'map': 0.194161785867202, 'P_10': 0.04634052978104566, 'ndcg': 0.20577835751041368}, (('w_anzahl', 100000000), ('w_score', 10000), ('w_tag', 10000)): {'map': 0.194161785867202, 'P_10': 0.04634052978104566, 'ndcg': 0.20577835751041365}, (('w_anzahl', 100000000), ('w_score', 10000), ('w_tag', 100000000)): {'map': 0.19416178586720137, 'P_10': 0.046340529781045664, 'ndcg': 0.20577835751041326}, (('w_anzahl', 1000), ('w_score', 100000000), ('w_tag', 1000)): {'map': 0.19416178586720192, 'P_10': 0.0463405297810456, 'ndcg': 0.20577835751041373}, (('w_anzahl', 1000), ('w_score', 100000000), ('w_tag', 3000)): {'map': 0.19416178586720192, 'P_10': 0.0463405297810456, 'ndcg': 0.20577835751041373}, (('w_anzahl', 1000), ('w_score', 100000000), ('w_tag', 10000)): {'map': 0.19416178586720192, 'P_10': 0.0463405297810456, 'ndcg': 0.20577835751041373}, (('w_anzahl', 1000), ('w_score', 100000000), ('w_tag', 100000000)): {'map': 0.19416178586720195, 'P_10': 0.04634052978104562, 'ndcg': 0.20577835751041385}, (('w_anzahl', 3000), ('w_score', 100000000), ('w_tag', 1000)): {'map': 0.19416178586720192, 'P_10': 0.0463405297810456, 'ndcg': 0.20577835751041373}, (('w_anzahl', 3000), ('w_score', 100000000), ('w_tag', 3000)): {'map': 0.19416178586720192, 'P_10': 0.0463405297810456, 'ndcg': 0.20577835751041373}, (('w_anzahl', 3000), ('w_score', 100000000), ('w_tag', 10000)): {'map': 0.19416178586720192, 'P_10': 0.0463405297810456, 'ndcg': 0.20577835751041373}, (('w_anzahl', 3000), ('w_score', 100000000), ('w_tag', 100000000)): {'map': 0.19416178586720195, 'P_10': 0.04634052978104562, 'ndcg': 0.20577835751041385}, (('w_anzahl', 10000), ('w_score', 100000000), ('w_tag', 1000)): {'map': 0.19416178586720192, 'P_10': 0.0463405297810456, 'ndcg': 0.20577835751041373}, (('w_anzahl', 10000), ('w_score', 100000000), ('w_tag', 3000)): {'map': 0.19416178586720192, 'P_10': 0.0463405297810456, 'ndcg': 0.20577835751041373}, (('w_anzahl', 10000), ('w_score', 100000000), ('w_tag', 10000)): {'map': 0.19416178586720192, 'P_10': 0.0463405297810456, 'ndcg': 0.20577835751041373}, (('w_anzahl', 10000), ('w_score', 100000000), ('w_tag', 100000000)): {'map': 0.19416178586720195, 'P_10': 0.04634052978104562, 'ndcg': 0.20577835751041385}, (('w_anzahl', 100000000), ('w_score', 100000000), ('w_tag', 1000)): {'map': 0.19416178586720195, 'P_10': 0.046340529781045595, 'ndcg': 0.20577835751041373}, (('w_anzahl', 100000000), ('w_score', 100000000), ('w_tag', 3000)): {'map': 0.19416178586720195, 'P_10': 0.046340529781045595, 'ndcg': 0.20577835751041373}, (('w_anzahl', 100000000), ('w_score', 100000000), ('w_tag', 10000)): {'map': 0.19416178586720195, 'P_10': 0.046340529781045595, 'ndcg': 0.20577835751041373}, (('w_anzahl', 100000000), ('w_score', 100000000), ('w_tag', 100000000)): {'map': 0.19416178586720195, 'P_10': 0.04634052978104562, 'ndcg': 0.20577835751041382}}\n"
     ]
    }
   ],
   "source": [
    "#Hyperparametertuning\n",
    "import numpy as np\n",
    "import itertools\n",
    "df_qrel['relevance'] = df_qrel['relevance'].astype(int)\n",
    "df_qrel = df_qrel.rename(columns={\n",
    "    \"quer_id\":      \"query_id\",   \n",
    "})\n",
    "param_grid = {\n",
    "    'w_score': [1000, 3000, 10000, 100000000], \n",
    "    'w_anzahl': [1000, 3000, 10000, 100000000], \n",
    "    'w_tag': [1000, 3000, 10000, 100000000]     \n",
    "}\n",
    "\n",
    "# Evaluationsmetrik, die wir optimieren wollen\n",
    "eval_metric = \"nDCG\" \n",
    "\n",
    "result_list = {}\n",
    "\n",
    "# Erzeuge alle möglichen Kombinationen von Gewichten\n",
    "keys, values = zip(*param_grid.items())\n",
    "weight_combinations = [dict(zip(keys, v)) for v in itertools.product(*values)]\n",
    "\n",
    "for weights in weight_combinations:\n",
    "\n",
    "    w_score = weights['w_score']\n",
    "    w_anzahl = weights['w_anzahl']\n",
    "    w_tag = weights['w_tag']\n",
    "    \n",
    "    df = Final_df_for_evaluation.copy()\n",
    "    df['score'] = df['score'].astype('float64')\n",
    "    df['Anzahl_Vorkommen'] = df['Anzahl_Vorkommen'].astype('float64')\n",
    "    df['tag'] = df['tag'].astype('float64')\n",
    "    kombinierter_score_values = (w_score * df['score']) + (w_anzahl * df['Anzahl_Vorkommen']) + (w_tag * df['tag'])\n",
    "    \n",
    "    df['score'] = kombinierter_score_values \n",
    "    df.sort_values(by='score',ascending=False, inplace=True)\n",
    "    kombinierter_score_values\n",
    "    evaluation_metrics = [\"map\", \"P_10\", \"ndcg\"]\n",
    "    evaluation_results = pt.Evaluate(df, df_qrel, evaluation_metrics)\n",
    "    immutable_weights_key = tuple(sorted(weights.items()))\n",
    "    result_list[immutable_weights_key] = evaluation_results\n",
    "    print(f\"Weights: {weights}, Results: {evaluation_results}\")\n",
    "\n",
    "print(result_list)"
   ]
  },
  {
   "cell_type": "code",
   "execution_count": 16,
   "id": "ad12eabd-a0fe-4d98-a1d0-4bf5da21e3fa",
   "metadata": {},
   "outputs": [
    {
     "data": {
      "text/plain": [
       "[{'w_score': 1000, 'w_anzahl': 1000, 'w_tag': 1000},\n",
       " {'w_score': 1000, 'w_anzahl': 1000, 'w_tag': 3000},\n",
       " {'w_score': 1000, 'w_anzahl': 1000, 'w_tag': 10000},\n",
       " {'w_score': 1000, 'w_anzahl': 1000, 'w_tag': 100000000},\n",
       " {'w_score': 1000, 'w_anzahl': 3000, 'w_tag': 1000},\n",
       " {'w_score': 1000, 'w_anzahl': 3000, 'w_tag': 3000},\n",
       " {'w_score': 1000, 'w_anzahl': 3000, 'w_tag': 10000},\n",
       " {'w_score': 1000, 'w_anzahl': 3000, 'w_tag': 100000000},\n",
       " {'w_score': 1000, 'w_anzahl': 10000, 'w_tag': 1000},\n",
       " {'w_score': 1000, 'w_anzahl': 10000, 'w_tag': 3000},\n",
       " {'w_score': 1000, 'w_anzahl': 10000, 'w_tag': 10000},\n",
       " {'w_score': 1000, 'w_anzahl': 10000, 'w_tag': 100000000},\n",
       " {'w_score': 1000, 'w_anzahl': 100000000, 'w_tag': 1000},\n",
       " {'w_score': 1000, 'w_anzahl': 100000000, 'w_tag': 3000},\n",
       " {'w_score': 1000, 'w_anzahl': 100000000, 'w_tag': 10000},\n",
       " {'w_score': 1000, 'w_anzahl': 100000000, 'w_tag': 100000000},\n",
       " {'w_score': 3000, 'w_anzahl': 1000, 'w_tag': 1000},\n",
       " {'w_score': 3000, 'w_anzahl': 1000, 'w_tag': 3000},\n",
       " {'w_score': 3000, 'w_anzahl': 1000, 'w_tag': 10000},\n",
       " {'w_score': 3000, 'w_anzahl': 1000, 'w_tag': 100000000},\n",
       " {'w_score': 3000, 'w_anzahl': 3000, 'w_tag': 1000},\n",
       " {'w_score': 3000, 'w_anzahl': 3000, 'w_tag': 3000},\n",
       " {'w_score': 3000, 'w_anzahl': 3000, 'w_tag': 10000},\n",
       " {'w_score': 3000, 'w_anzahl': 3000, 'w_tag': 100000000},\n",
       " {'w_score': 3000, 'w_anzahl': 10000, 'w_tag': 1000},\n",
       " {'w_score': 3000, 'w_anzahl': 10000, 'w_tag': 3000},\n",
       " {'w_score': 3000, 'w_anzahl': 10000, 'w_tag': 10000},\n",
       " {'w_score': 3000, 'w_anzahl': 10000, 'w_tag': 100000000},\n",
       " {'w_score': 3000, 'w_anzahl': 100000000, 'w_tag': 1000},\n",
       " {'w_score': 3000, 'w_anzahl': 100000000, 'w_tag': 3000},\n",
       " {'w_score': 3000, 'w_anzahl': 100000000, 'w_tag': 10000},\n",
       " {'w_score': 3000, 'w_anzahl': 100000000, 'w_tag': 100000000},\n",
       " {'w_score': 10000, 'w_anzahl': 1000, 'w_tag': 1000},\n",
       " {'w_score': 10000, 'w_anzahl': 1000, 'w_tag': 3000},\n",
       " {'w_score': 10000, 'w_anzahl': 1000, 'w_tag': 10000},\n",
       " {'w_score': 10000, 'w_anzahl': 1000, 'w_tag': 100000000},\n",
       " {'w_score': 10000, 'w_anzahl': 3000, 'w_tag': 1000},\n",
       " {'w_score': 10000, 'w_anzahl': 3000, 'w_tag': 3000},\n",
       " {'w_score': 10000, 'w_anzahl': 3000, 'w_tag': 10000},\n",
       " {'w_score': 10000, 'w_anzahl': 3000, 'w_tag': 100000000},\n",
       " {'w_score': 10000, 'w_anzahl': 10000, 'w_tag': 1000},\n",
       " {'w_score': 10000, 'w_anzahl': 10000, 'w_tag': 3000},\n",
       " {'w_score': 10000, 'w_anzahl': 10000, 'w_tag': 10000},\n",
       " {'w_score': 10000, 'w_anzahl': 10000, 'w_tag': 100000000},\n",
       " {'w_score': 10000, 'w_anzahl': 100000000, 'w_tag': 1000},\n",
       " {'w_score': 10000, 'w_anzahl': 100000000, 'w_tag': 3000},\n",
       " {'w_score': 10000, 'w_anzahl': 100000000, 'w_tag': 10000},\n",
       " {'w_score': 10000, 'w_anzahl': 100000000, 'w_tag': 100000000},\n",
       " {'w_score': 100000000, 'w_anzahl': 1000, 'w_tag': 1000},\n",
       " {'w_score': 100000000, 'w_anzahl': 1000, 'w_tag': 3000},\n",
       " {'w_score': 100000000, 'w_anzahl': 1000, 'w_tag': 10000},\n",
       " {'w_score': 100000000, 'w_anzahl': 1000, 'w_tag': 100000000},\n",
       " {'w_score': 100000000, 'w_anzahl': 3000, 'w_tag': 1000},\n",
       " {'w_score': 100000000, 'w_anzahl': 3000, 'w_tag': 3000},\n",
       " {'w_score': 100000000, 'w_anzahl': 3000, 'w_tag': 10000},\n",
       " {'w_score': 100000000, 'w_anzahl': 3000, 'w_tag': 100000000},\n",
       " {'w_score': 100000000, 'w_anzahl': 10000, 'w_tag': 1000},\n",
       " {'w_score': 100000000, 'w_anzahl': 10000, 'w_tag': 3000},\n",
       " {'w_score': 100000000, 'w_anzahl': 10000, 'w_tag': 10000},\n",
       " {'w_score': 100000000, 'w_anzahl': 10000, 'w_tag': 100000000},\n",
       " {'w_score': 100000000, 'w_anzahl': 100000000, 'w_tag': 1000},\n",
       " {'w_score': 100000000, 'w_anzahl': 100000000, 'w_tag': 3000},\n",
       " {'w_score': 100000000, 'w_anzahl': 100000000, 'w_tag': 10000},\n",
       " {'w_score': 100000000, 'w_anzahl': 100000000, 'w_tag': 100000000}]"
      ]
     },
     "execution_count": 16,
     "metadata": {},
     "output_type": "execute_result"
    }
   ],
   "source": [
    "weight_combinations"
   ]
  }
 ],
 "metadata": {
  "kernelspec": {
   "display_name": "Python 3 (ipykernel)",
   "language": "python",
   "name": "python3"
  },
  "language_info": {
   "codemirror_mode": {
    "name": "ipython",
    "version": 3
   },
   "file_extension": ".py",
   "mimetype": "text/x-python",
   "name": "python",
   "nbconvert_exporter": "python",
   "pygments_lexer": "ipython3",
   "version": "3.11.6"
  }
 },
 "nbformat": 4,
 "nbformat_minor": 5
}

{
 "cells": [
  {
   "cell_type": "code",
   "execution_count": 1,
   "id": "305fc1ca-ea3c-4456-bd8a-5b4e844743ac",
   "metadata": {},
   "outputs": [
    {
     "name": "stdout",
     "output_type": "stream",
     "text": [
      "Done\n"
     ]
    }
   ],
   "source": [
    "import pandas as pd\n",
    "from sqlalchemy import create_engine\n",
    "import psycopg2  \n",
    "import pyterrier as pt\n",
    "import os\n",
    "import numpy as np\n",
    "import gc\n",
    "\n",
    "print(\"Done\")"
   ]
  },
  {
   "cell_type": "code",
   "execution_count": 2,
   "id": "9a0326af-3b1f-4d2d-9137-83da905c7956",
   "metadata": {},
   "outputs": [
    {
     "name": "stderr",
     "output_type": "stream",
     "text": [
      "/tmp/ipykernel_533361/1499247338.py:2: DeprecationWarning: Call to deprecated function (or staticmethod) started. (use pt.java.started() instead) -- Deprecated since version 0.11.0.\n",
      "  if not pt.started():\n"
     ]
    },
    {
     "name": "stdout",
     "output_type": "stream",
     "text": [
      "Done\n"
     ]
    },
    {
     "name": "stderr",
     "output_type": "stream",
     "text": [
      "Java started and loaded: pyterrier.java, pyterrier.terrier.java [version=5.11 (build: craig.macdonald 2025-01-13 21:29), helper_version=0.0.8]\n"
     ]
    }
   ],
   "source": [
    "# --- PyTerrier Initialisierung ---\n",
    "if not pt.started():\n",
    "    pt.java.init()\n",
    "print(\"Done\")"
   ]
  },
  {
   "cell_type": "code",
   "execution_count": 3,
   "id": "ff885d59-921b-497f-9b32-a78c2c51d24b",
   "metadata": {},
   "outputs": [
    {
     "name": "stdout",
     "output_type": "stream",
     "text": [
      "Datenbankverbindung erfolgreich.\n",
      "Done\n"
     ]
    }
   ],
   "source": [
    "# --- Datenbankverbindung ---\n",
    "DATABASE = \"longeval-web\"\n",
    "USER = \"dis18\"\n",
    "HOST = \"db\"\n",
    "PORT = \"5432\"\n",
    "PASSWORD = os.getenv(\"DB_PASSWORD\", \"dis182425\")  \n",
    "\n",
    "try:\n",
    "    engine = create_engine(f\"postgresql+psycopg2://{USER}:{PASSWORD}@{HOST}:{PORT}/{DATABASE}\")\n",
    "    with engine.begin() as connection:\n",
    "        print(\"Datenbankverbindung erfolgreich.\")\n",
    "except Exception as e:\n",
    "    print(f\"Fehler bei DB-Verbindung: {e}\")\n",
    "    exit()\n",
    "print(\"Done\")"
   ]
  },
  {
   "cell_type": "code",
   "execution_count": 4,
   "id": "2b60c6c0-2981-405e-8518-ceec3e3d0c90",
   "metadata": {},
   "outputs": [],
   "source": [
    "DATABASE = \"longeval-web\"\n",
    "USER = \"dis18\"\n",
    "HOST = \"db\"\n",
    "PORT = \"5432\"\n",
    "PASSWORD = \"dis182425\"\n",
    "\n",
    "engine = create_engine(f\"postgresql+psycopg2://{USER}:{PASSWORD}@{HOST}:{PORT}/{DATABASE}\")"
   ]
  },
  {
   "cell_type": "code",
   "execution_count": 5,
   "id": "ffa81296-59fd-4671-b996-7e7562175757",
   "metadata": {},
   "outputs": [
    {
     "name": "stdout",
     "output_type": "stream",
     "text": [
      "     quer_id                                         query sub_collection\n",
      "0          3                          1ere guerre mondiale        2023-03\n",
      "1         12                                  abri voiture        2023-03\n",
      "2         19                        activ crea pole emploi        2023-03\n",
      "3         24                                 adidas terrex        2023-03\n",
      "4         28                             aeroport bordeaux        2023-03\n",
      "...      ...                                           ...            ...\n",
      "5680   75327                               jean luc bideau        2023-03\n",
      "5681   75328                             loi censi bouvard        2023-03\n",
      "5682   75352                              radiologie blois        2023-03\n",
      "5683   75382  archives departementales de loire atlantique        2023-03\n",
      "5684   75398                            gateau paris brest        2023-03\n",
      "\n",
      "[5685 rows x 3 columns]\n",
      "Empty DataFrame\n",
      "Columns: [relevance, quer_id, doc_id]\n",
      "Index: []\n",
      "                                                       url      doc_id\n",
      "0        https://www.lacs-champagne.fr/alzheimer-voici-...  doc2987255\n",
      "1        https://www.aebfrance.com/jardiniere-en-crista...  doc1743193\n",
      "2        http://grandmaitrelaterre.nordblogs.com/archiv...   doc267744\n",
      "3        https://www.neogeo-system.com/t10438-presentat...  doc3067127\n",
      "4                 https://www.supjournal.com/tags,5-chiens  doc2450189\n",
      "...                                                    ...         ...\n",
      "2474996  https://www.jrheum.org/content/jrheum/40/2/203...  doc1996765\n",
      "2474997  https://www.eifoundation.org/newsletter/eif-sn...  doc2096210\n",
      "2474998  https://lolitude.forum.st/t468-rando-raquette-...  doc2508908\n",
      "2474999  https://www.emonnaies.fr/10-centimes-dupuis-20...  doc2419357\n",
      "2475000  https://www.chiots-de-france.com/chiots/Labrad...  doc2036682\n",
      "\n",
      "[2475001 rows x 2 columns]\n",
      "             docid  Anzahl_Vorkommen\n",
      "0             doc1                 1\n",
      "1            doc10                10\n",
      "2           doc100                 4\n",
      "3          doc1000                 9\n",
      "4         doc10000                 2\n",
      "...            ...               ...\n",
      "3453823  doc999995                 2\n",
      "3453824  doc999996                 6\n",
      "3453825  doc999997                 6\n",
      "3453826  doc999998                 4\n",
      "3453827  doc999999                 3\n",
      "\n",
      "[3453828 rows x 2 columns]\n",
      "Done\n",
      "Einzigartige quer_id in df_qrel: 0\n"
     ]
    }
   ],
   "source": [
    "# --- SQL Queries ---\n",
    "query_topic = \"\"\"\n",
    "SELECT \n",
    "    \"Topic\".\"queryid\" AS quer_id,    \n",
    "    \"Topic\".\"text_fr\" AS query,\n",
    "    \"sub_collection\" \n",
    "FROM \"Topic\"\n",
    "WHERE \"sub_collection\" = '2023-03';\n",
    "\"\"\"\n",
    "\n",
    "query_qrel = \"\"\"\n",
    "SELECT DISTINCT\n",
    "    \"Qrel\".\"relevance\" AS relevance,\n",
    "    \"queryid\" as quer_id,\n",
    "    \"docid\" as doc_id\n",
    "    \n",
    "from \"Qrel\"\n",
    "WHERE \"sub_collection\" = '2023-03';\n",
    "\n",
    "\n",
    "\"\"\"\n",
    "\n",
    "query_document = \"\"\"\n",
    "SELECT \n",
    "    \"Document\".\"url\" AS url,\n",
    "    \"docid\" as doc_id\n",
    "from \"Document\"\n",
    "WHERE \"sub_collection\" IN ('2023-03');\n",
    "\"\"\"\n",
    "\n",
    "query_vorkommen = \"\"\"\n",
    "WITH doc_counts AS (\n",
    "    SELECT\n",
    "        \"docid\",\n",
    "        COUNT(*) AS \"Anzahl_Vorkommen\"\n",
    "    FROM \"Document\"\n",
    "    WHERE \"sub_collection\" IN (\n",
    "        '2022-06', '2022-07', '2022-08', '2022-09', '2022-10', '2022-11', '2022-12',\n",
    "        '2023-01', '2023-02', '2023-03'\n",
    "    )\n",
    "    GROUP BY \"docid\"\n",
    ")\n",
    "SELECT\n",
    "    \"docid\",\n",
    "    \"Anzahl_Vorkommen\"\n",
    "FROM doc_counts;\n",
    "\"\"\"\n",
    "\n",
    "\n",
    "df_topic = pd.read_sql(query_topic, con=engine)\n",
    "df_qrel = pd.read_sql(query_qrel, con=engine)\n",
    "df_document = pd.read_sql(query_document, con=engine)\n",
    "df_vorkommen = pd.read_sql(query_vorkommen, con=engine)\n",
    "\n",
    "print(df_topic)\n",
    "print(df_qrel)\n",
    "print(df_document)\n",
    "print(df_vorkommen)\n",
    "print(\"Done\")\n",
    "# Anzahl eindeutiger Queries in den Qrels\n",
    "num_qrels = df_qrel['quer_id'].nunique()\n",
    "print(f\"Einzigartige quer_id in df_qrel: {num_qrels}\")\n",
    "\n"
   ]
  },
  {
   "cell_type": "code",
   "execution_count": 6,
   "id": "cc821b1c-c916-4aaa-a422-3ab78d161535",
   "metadata": {},
   "outputs": [
    {
     "name": "stdout",
     "output_type": "stream",
     "text": [
      "           qid    docno  rank      score       name\n",
      "0            3  2214755     0  24.226631  pyterrier\n",
      "1            3   684186     1  23.345397  pyterrier\n",
      "2            3   637997     2  23.149936  pyterrier\n",
      "3            3   430968     3  22.982027  pyterrier\n",
      "4            3   160081     4  22.781866  pyterrier\n",
      "...        ...      ...   ...        ...        ...\n",
      "5468763  75398   235782   995  15.418909  pyterrier\n",
      "5468764  75398  2681929   996  15.411665  pyterrier\n",
      "5468765  75398  3128573   997  15.409610  pyterrier\n",
      "5468766  75398    57032   998  15.408249  pyterrier\n",
      "5468767  75398  2322020   999  15.407915  pyterrier\n",
      "\n",
      "[5468768 rows x 5 columns]\n",
      "Einzigartige quer_id in bm_df: 5628\n",
      "Done\n"
     ]
    }
   ],
   "source": [
    "# --- BM25 Daten laden ---\n",
    "\n",
    "bm25_file = \"datasets/LongEval-Web/runs/longeval-web-fr-2023-03-BM25.gz\"\n",
    "bm_df = pt.io.read_results(bm25_file)\n",
    "print(bm_df)\n",
    "num_bm = bm_df['qid'].nunique()\n",
    "print(f\"Einzigartige quer_id in bm_df: {num_bm}\")\n",
    "\n",
    "print('Done')\n",
    "\n",
    "\n"
   ]
  },
  {
   "cell_type": "code",
   "execution_count": 7,
   "id": "d04b7716-eeca-4a4f-b95f-44173930c9a3",
   "metadata": {},
   "outputs": [
    {
     "name": "stdout",
     "output_type": "stream",
     "text": [
      "Done\n"
     ]
    }
   ],
   "source": [
    "# --- Hilfsfunktion zur Speicheroptimierung bm_df ---\n",
    "def optimize_df_types(df: pd.DataFrame) -> pd.DataFrame:\n",
    "    \"\"\"Optimizes DataFrame types in-place for memory.\"\"\"\n",
    "    for col in df.columns:\n",
    "        col_type = df[col].dtype\n",
    "        try:\n",
    "            if col_type == 'float64':\n",
    "                df[col] = df[col].astype(np.float32)\n",
    "            elif col_type == 'int64':\n",
    "                df[col] = pd.to_numeric(df[col], downcast='integer')\n",
    "            elif col_type == 'object' and df[col].nunique() / len(df) < 0.5:\n",
    "                 df[col] = df[col].astype('category')\n",
    "        except Exception as e:\n",
    "\n",
    "             pass \n",
    "    return df\n",
    "\n",
    "list_of_dfs = [bm_df]\n",
    "optimized_list = [optimize_df_types(df) for df in list_of_dfs]\n",
    "print(\"Done\")"
   ]
  },
  {
   "cell_type": "code",
   "execution_count": 8,
   "id": "7afc8441-1f38-4a29-9dcc-85148acb856e",
   "metadata": {},
   "outputs": [
    {
     "name": "stdout",
     "output_type": "stream",
     "text": [
      "Done\n"
     ]
    }
   ],
   "source": [
    "# --- Hilfsfunktion zur Speicheroptimierung ---\n",
    "def optimize_df_types(df: pd.DataFrame) -> pd.DataFrame:\n",
    "    \"\"\"Optimizes DataFrame types in-place for memory.\"\"\"\n",
    "    for col in df.columns:\n",
    "        col_type = df[col].dtype\n",
    "        try:\n",
    "            if col_type == 'float64':\n",
    "                df[col] = df[col].astype(np.float32)\n",
    "            elif col_type == 'int64':\n",
    "                df[col] = pd.to_numeric(df[col], downcast='integer')\n",
    "            elif col_type == 'object' and df[col].nunique() / len(df) < 0.5:\n",
    "                 df[col] = df[col].astype('category')\n",
    "        except Exception as e:\n",
    "\n",
    "             pass \n",
    "    return df\n",
    "\n",
    "list_of_dfs = [df_topic, df_qrel, df_document, df_vorkommen]\n",
    "optimized_list = [optimize_df_types(df) for df in list_of_dfs]\n",
    "\n",
    "print(\"Done\")"
   ]
  },
  {
   "cell_type": "code",
   "execution_count": 9,
   "id": "652fa180-ec3f-4aa0-94ec-2b56bdb3eebe",
   "metadata": {},
   "outputs": [
    {
     "name": "stdout",
     "output_type": "stream",
     "text": [
      "          docid  Anzahl_Vorkommen\n",
      "0             1                 1\n",
      "1            10                10\n",
      "2           100                 4\n",
      "3          1000                 9\n",
      "4         10000                 2\n",
      "...         ...               ...\n",
      "3453823  999995                 2\n",
      "3453824  999996                 6\n",
      "3453825  999997                 6\n",
      "3453826  999998                 4\n",
      "3453827  999999                 3\n",
      "\n",
      "[3453828 rows x 2 columns]\n"
     ]
    }
   ],
   "source": [
    "df_vorkommen['docid'] = df_vorkommen['docid'].str.replace(r'^doc', '', regex=True)\n",
    "\n",
    "print(df_vorkommen)\n"
   ]
  },
  {
   "cell_type": "code",
   "execution_count": 10,
   "id": "94ca2f59-3048-4daf-9aee-dc26dafb8e9e",
   "metadata": {},
   "outputs": [
    {
     "name": "stdout",
     "output_type": "stream",
     "text": [
      "Einzigartige qid in bm_df: 5628\n"
     ]
    }
   ],
   "source": [
    "\n",
    "bm_df['qid'] = bm_df['qid'].astype(str)\n",
    "df_topic['quer_id'] = df_topic['quer_id'].astype(str)\n",
    "\n",
    "print(\"Einzigartige qid in bm_df:\", bm_df['qid'].nunique())\n"
   ]
  },
  {
   "cell_type": "code",
   "execution_count": 11,
   "id": "d72f7010-d785-4380-989d-65dd953f94e8",
   "metadata": {},
   "outputs": [
    {
     "name": "stdout",
     "output_type": "stream",
     "text": [
      "Einzigartige quer_id in df_qrel: 0\n",
      "Einzigartige qid in bm_df: 5628\n"
     ]
    }
   ],
   "source": [
    "# Anzahl eindeutiger Queries in den Qrels\n",
    "num_qrels = df_qrel['quer_id'].nunique()\n",
    "print(f\"Einzigartige quer_id in df_qrel: {num_qrels}\")\n",
    "\n",
    "# Anzahl eindeutiger Queries im BM25-Run\n",
    "num_bm = bm_df['qid'].nunique()\n",
    "print(f\"Einzigartige qid in bm_df: {num_bm}\")"
   ]
  },
  {
   "cell_type": "code",
   "execution_count": 12,
   "id": "4fe3a7ac-d8a8-43fc-a01e-4792dab79180",
   "metadata": {},
   "outputs": [
    {
     "name": "stdout",
     "output_type": "stream",
     "text": [
      "                                         id  queryid  text_en  \\\n",
      "90475  e9bb512e-a0c6-4404-9a47-bdc59ad62854        3      NaN   \n",
      "90476  7e316f55-7f1a-4d74-89d6-b79c5eb00941       12      NaN   \n",
      "90477  4509614f-3bca-4d1a-9a9a-823a3be07a78       19      NaN   \n",
      "90478  b493fb56-98bb-43c7-ace8-a47a92a782ad       24      NaN   \n",
      "90479  535cbdd8-bca5-4e46-ad91-afa76e0361cc       28      NaN   \n",
      "...                                     ...      ...      ...   \n",
      "96156  f0ae4175-7671-4476-8a44-ee03c11e6469    75327      NaN   \n",
      "96157  6b112375-2d60-4cd6-92c9-444388982342    75328      NaN   \n",
      "96158  3f099f52-10ec-4f40-81bb-94656e17e1e4    75352      NaN   \n",
      "96159  e7894d83-8380-42c9-9d4c-42e1a005c2e9    75382      NaN   \n",
      "96160  4d250be6-6211-4243-90ec-b9efd38c5ecd    75398      NaN   \n",
      "\n",
      "                                              query sub_collection split  tag  \n",
      "90475                          1ere guerre mondiale        2023-03  test  0.2  \n",
      "90476                                  abri voiture        2023-03  test  0.2  \n",
      "90477                        activ crea pole emploi        2023-03  test  0.8  \n",
      "90478                                 adidas terrex        2023-03  test  0.2  \n",
      "90479                             aeroport bordeaux        2023-03  test  0.2  \n",
      "...                                             ...            ...   ...  ...  \n",
      "96156                               jean-luc bideau        2023-03  test  0.2  \n",
      "96157                             loi censi-bouvard        2023-03  test  0.8  \n",
      "96158                              radiologie-blois        2023-03  test  0.2  \n",
      "96159  archives departementales de loire-atlantique        2023-03  test  0.2  \n",
      "96160                            gateau paris-brest        2023-03  test  0.1  \n",
      "\n",
      "[5685 rows x 7 columns]\n",
      "           qid    docno  rank      score       name\n",
      "0            3  2214755     0  24.226631  pyterrier\n",
      "1            3   684186     1  23.345398  pyterrier\n",
      "2            3   637997     2  23.149937  pyterrier\n",
      "3            3   430968     3  22.982027  pyterrier\n",
      "4            3   160081     4  22.781866  pyterrier\n",
      "...        ...      ...   ...        ...        ...\n",
      "5468763  75398   235782   995  15.418909  pyterrier\n",
      "5468764  75398  2681929   996  15.411665  pyterrier\n",
      "5468765  75398  3128573   997  15.409611  pyterrier\n",
      "5468766  75398    57032   998  15.408249  pyterrier\n",
      "5468767  75398  2322020   999  15.407914  pyterrier\n",
      "\n",
      "[5468768 rows x 5 columns]\n",
      "Anzahl einzigartiger queryid in sub_collection 2023-01: 5685\n"
     ]
    }
   ],
   "source": [
    "Time_Tags = pd.read_csv('Expanded/Topics_With_TimeTags.csv')\n",
    "\n",
    "Time_Tags_202301 = Time_Tags[Time_Tags['sub_collection'] == '2023-03'].copy()\n",
    "print(Time_Tags_202301)\n",
    "print(bm_df)\n",
    "unique_queryids = Time_Tags_202301['queryid'].nunique()\n",
    "\n",
    "print(f\"Anzahl einzigartiger queryid in sub_collection 2023-01: {unique_queryids}\")"
   ]
  },
  {
   "cell_type": "code",
   "execution_count": 13,
   "id": "de372bcb-1a19-4e5c-b00b-af69c187f2ca",
   "metadata": {},
   "outputs": [
    {
     "name": "stdout",
     "output_type": "stream",
     "text": [
      "           qid    docno  rank      score       name  \\\n",
      "0            3  2214755     0  24.226631  pyterrier   \n",
      "1            3   684186     1  23.345398  pyterrier   \n",
      "2            3   637997     2  23.149937  pyterrier   \n",
      "3            3   430968     3  22.982027  pyterrier   \n",
      "4            3   160081     4  22.781866  pyterrier   \n",
      "...        ...      ...   ...        ...        ...   \n",
      "5468763  75398   235782   995  15.418909  pyterrier   \n",
      "5468764  75398  2681929   996  15.411665  pyterrier   \n",
      "5468765  75398  3128573   997  15.409611  pyterrier   \n",
      "5468766  75398    57032   998  15.408249  pyterrier   \n",
      "5468767  75398  2322020   999  15.407914  pyterrier   \n",
      "\n",
      "                                           id queryid  text_en  \\\n",
      "0        e9bb512e-a0c6-4404-9a47-bdc59ad62854       3      NaN   \n",
      "1        e9bb512e-a0c6-4404-9a47-bdc59ad62854       3      NaN   \n",
      "2        e9bb512e-a0c6-4404-9a47-bdc59ad62854       3      NaN   \n",
      "3        e9bb512e-a0c6-4404-9a47-bdc59ad62854       3      NaN   \n",
      "4        e9bb512e-a0c6-4404-9a47-bdc59ad62854       3      NaN   \n",
      "...                                       ...     ...      ...   \n",
      "5468763  4d250be6-6211-4243-90ec-b9efd38c5ecd   75398      NaN   \n",
      "5468764  4d250be6-6211-4243-90ec-b9efd38c5ecd   75398      NaN   \n",
      "5468765  4d250be6-6211-4243-90ec-b9efd38c5ecd   75398      NaN   \n",
      "5468766  4d250be6-6211-4243-90ec-b9efd38c5ecd   75398      NaN   \n",
      "5468767  4d250be6-6211-4243-90ec-b9efd38c5ecd   75398      NaN   \n",
      "\n",
      "                        query sub_collection split  tag  \n",
      "0        1ere guerre mondiale        2023-03  test  0.2  \n",
      "1        1ere guerre mondiale        2023-03  test  0.2  \n",
      "2        1ere guerre mondiale        2023-03  test  0.2  \n",
      "3        1ere guerre mondiale        2023-03  test  0.2  \n",
      "4        1ere guerre mondiale        2023-03  test  0.2  \n",
      "...                       ...            ...   ...  ...  \n",
      "5468763    gateau paris-brest        2023-03  test  0.1  \n",
      "5468764    gateau paris-brest        2023-03  test  0.1  \n",
      "5468765    gateau paris-brest        2023-03  test  0.1  \n",
      "5468766    gateau paris-brest        2023-03  test  0.1  \n",
      "5468767    gateau paris-brest        2023-03  test  0.1  \n",
      "\n",
      "[5468768 rows x 12 columns]\n",
      "           qid    docno  rank      score       name  \\\n",
      "4469818  57098  3453778     0  88.631134  pyterrier   \n",
      "4469819  57098  3452583     1  84.607277  pyterrier   \n",
      "4469820  57098  3441906     2  83.210365  pyterrier   \n",
      "4469821  57098  3439564     3  82.982010  pyterrier   \n",
      "5426768  74977  3452059     0  79.923096  pyterrier   \n",
      "...        ...      ...   ...        ...        ...   \n",
      "3895062  53519  1826192   995  -0.907581  pyterrier   \n",
      "3895064  53519  1808482   997  -0.907858  pyterrier   \n",
      "3895063  53519  1802069   996  -0.907858  pyterrier   \n",
      "3895065  53519  1194647   998  -0.907858  pyterrier   \n",
      "3895066  53519  1167901   999  -0.907858  pyterrier   \n",
      "\n",
      "                                           id queryid  text_en  \\\n",
      "4469818  b6513963-6268-4f2d-9fcb-c1efd49cdadf   57098      NaN   \n",
      "4469819  b6513963-6268-4f2d-9fcb-c1efd49cdadf   57098      NaN   \n",
      "4469820  b6513963-6268-4f2d-9fcb-c1efd49cdadf   57098      NaN   \n",
      "4469821  b6513963-6268-4f2d-9fcb-c1efd49cdadf   57098      NaN   \n",
      "5426768  f2106f5f-6f68-451f-a7de-ca17522e326b   74977      NaN   \n",
      "...                                       ...     ...      ...   \n",
      "3895062  14da474f-14a5-44b5-b358-b0d052fc2347   53519      NaN   \n",
      "3895064  14da474f-14a5-44b5-b358-b0d052fc2347   53519      NaN   \n",
      "3895063  14da474f-14a5-44b5-b358-b0d052fc2347   53519      NaN   \n",
      "3895065  14da474f-14a5-44b5-b358-b0d052fc2347   53519      NaN   \n",
      "3895066  14da474f-14a5-44b5-b358-b0d052fc2347   53519      NaN   \n",
      "\n",
      "                                        query sub_collection split  tag  \n",
      "4469818  beauty shemale lingerie sexy fisting        2023-03  test  0.1  \n",
      "4469819  beauty shemale lingerie sexy fisting        2023-03  test  0.1  \n",
      "4469820  beauty shemale lingerie sexy fisting        2023-03  test  0.1  \n",
      "4469821  beauty shemale lingerie sexy fisting        2023-03  test  0.1  \n",
      "5426768            florence bergeaud-blackler        2023-03  test  0.7  \n",
      "...                                       ...            ...   ...  ...  \n",
      "3895062                           blondeau ds        2023-03  test  0.2  \n",
      "3895064                           blondeau ds        2023-03  test  0.2  \n",
      "3895063                           blondeau ds        2023-03  test  0.2  \n",
      "3895065                           blondeau ds        2023-03  test  0.2  \n",
      "3895066                           blondeau ds        2023-03  test  0.2  \n",
      "\n",
      "[5468768 rows x 12 columns]\n"
     ]
    }
   ],
   "source": [
    "bm_df['qid'] = bm_df['qid'].astype(str)\n",
    "Time_Tags_202301['queryid'] = Time_Tags_202301['queryid'].astype(str)\n",
    "\n",
    "Final_df = pd.merge(\n",
    "    bm_df,\n",
    "    Time_Tags_202301,\n",
    "    left_on=\"qid\",\n",
    "    right_on=\"queryid\",\n",
    "    how=\"inner\"\n",
    ")\n",
    "print(Final_df)\n",
    "\n",
    "print(Final_df.sort_values(by='score', ascending=False))\n"
   ]
  },
  {
   "cell_type": "code",
   "execution_count": 14,
   "id": "06fc25eb-b71b-4102-8e3b-598066b65121",
   "metadata": {},
   "outputs": [
    {
     "name": "stdout",
     "output_type": "stream",
     "text": [
      "           qid    docno  rank      score       name  \\\n",
      "1165851   3908  3442573   344  11.438331  pyterrier   \n",
      "4119332  55971  3440702   336  16.703697  pyterrier   \n",
      "4119336  55971  3438635   340  16.665726  pyterrier   \n",
      "4119274  55971  3452230   278  17.273876  pyterrier   \n",
      "4119468  55971  3453154   472  15.502724  pyterrier   \n",
      "...        ...      ...   ...        ...        ...   \n",
      "5456203  75298  3451978   435  19.782284  pyterrier   \n",
      "5457998  75303  3452053   230  29.072803  pyterrier   \n",
      "5459873  75306  3452017   105  13.361832  pyterrier   \n",
      "5463774  75327  3452071     6  28.095406  pyterrier   \n",
      "5466382  75352  3451437   614  15.595189  pyterrier   \n",
      "\n",
      "                                           id queryid  text_en  \\\n",
      "1165851  14b91b00-eb8d-477a-967a-d72fadda26e8    3908      NaN   \n",
      "4119332  87a79c4e-0348-4499-bbb2-5de6080f875a   55971      NaN   \n",
      "4119336  87a79c4e-0348-4499-bbb2-5de6080f875a   55971      NaN   \n",
      "4119274  87a79c4e-0348-4499-bbb2-5de6080f875a   55971      NaN   \n",
      "4119468  87a79c4e-0348-4499-bbb2-5de6080f875a   55971      NaN   \n",
      "...                                       ...     ...      ...   \n",
      "5456203  10057448-b777-43a3-92f8-cd23e1f6f1ce   75298      NaN   \n",
      "5457998  8632feb3-25a2-42da-8753-f4576021b7b6   75303      NaN   \n",
      "5459873  89c44ce3-7ce9-4f1d-9d79-fb5747cc2b16   75306      NaN   \n",
      "5463774  f0ae4175-7671-4476-8a44-ee03c11e6469   75327      NaN   \n",
      "5466382  3f099f52-10ec-4f40-81bb-94656e17e1e4   75352      NaN   \n",
      "\n",
      "                       query sub_collection split  tag  Anzahl_Vorkommen  \n",
      "1165851  doctolib mon espace        2023-03  test  0.2               1.0  \n",
      "4119332         santea blois        2023-03  test  0.2               1.0  \n",
      "4119336         santea blois        2023-03  test  0.2               1.0  \n",
      "4119274         santea blois        2023-03  test  0.2               1.0  \n",
      "4119468         santea blois        2023-03  test  0.2               1.0  \n",
      "...                      ...            ...   ...  ...               ...  \n",
      "5456203   www.pole-emploi.fr        2023-03  test  0.5               NaN  \n",
      "5457998     levallois-perret        2023-03  test  0.2               NaN  \n",
      "5459873  place-emploi-public        2023-03  test  0.8               NaN  \n",
      "5463774      jean-luc bideau        2023-03  test  0.2               NaN  \n",
      "5466382     radiologie-blois        2023-03  test  0.2               NaN  \n",
      "\n",
      "[5468768 rows x 13 columns]\n"
     ]
    }
   ],
   "source": [
    "import pandas as pd\n",
    "\n",
    "\n",
    "df_vorkommen_renamed = df_vorkommen.rename(columns={'docid': 'docno'})\n",
    "\n",
    "\n",
    "Final_df = pd.merge(\n",
    "    Final_df,\n",
    "    df_vorkommen_renamed,\n",
    "    on='docno',\n",
    "    how='left'   \n",
    ")\n",
    "\n",
    "print(Final_df.sort_values(by='Anzahl_Vorkommen', ascending=True))\n",
    "\n"
   ]
  },
  {
   "cell_type": "code",
   "execution_count": 15,
   "id": "842b5c25-85fc-45f7-a37f-c968d4dbc037",
   "metadata": {},
   "outputs": [
    {
     "name": "stdout",
     "output_type": "stream",
     "text": [
      "0 NaNs nach fillna\n",
      "           qid    docno  rank      score       name  \\\n",
      "3143358  44263  3449924   330  13.768674  pyterrier   \n",
      "3143301  44263  3440919   273  14.594456  pyterrier   \n",
      "3143304  44263  3453225   276  14.577655  pyterrier   \n",
      "1167806   3923  3444315   299  15.633690  pyterrier   \n",
      "1167692   3923  3447916   185  16.247210  pyterrier   \n",
      "\n",
      "                                           id queryid  text_en  \\\n",
      "3143358  cb728515-bd84-4e30-8123-3e0374565c57   44263      NaN   \n",
      "3143301  cb728515-bd84-4e30-8123-3e0374565c57   44263      NaN   \n",
      "3143304  cb728515-bd84-4e30-8123-3e0374565c57   44263      NaN   \n",
      "1167806  b781e44e-2864-4dd7-8c7d-4702fd655fab    3923      NaN   \n",
      "1167692  b781e44e-2864-4dd7-8c7d-4702fd655fab    3923      NaN   \n",
      "\n",
      "                    query sub_collection split  tag  Anzahl_Vorkommen  \n",
      "3143358    enquete emploi        2023-03  test  0.8               1.0  \n",
      "3143301    enquete emploi        2023-03  test  0.8               1.0  \n",
      "3143304    enquete emploi        2023-03  test  0.8               1.0  \n",
      "1167806  drapeau allemand        2023-03  test  0.1               1.0  \n",
      "1167692  drapeau allemand        2023-03  test  0.1               1.0  \n"
     ]
    }
   ],
   "source": [
    "Final_df['Anzahl_Vorkommen'] = Final_df['Anzahl_Vorkommen'].fillna(1.0)\n",
    "\n",
    "print(Final_df['Anzahl_Vorkommen'].isnull().sum(), \"NaNs nach fillna\")\n",
    "print(Final_df.sort_values(by='Anzahl_Vorkommen', ascending=True).head())\n"
   ]
  },
  {
   "cell_type": "code",
   "execution_count": 16,
   "id": "33dff10d-de66-49c0-b126-656357ba3d2e",
   "metadata": {},
   "outputs": [
    {
     "name": "stdout",
     "output_type": "stream",
     "text": [
      "qid                   object\n",
      "docno                 object\n",
      "rank                   int16\n",
      "score                float32\n",
      "name                category\n",
      "id                    object\n",
      "queryid               object\n",
      "text_en              float64\n",
      "query                 object\n",
      "sub_collection        object\n",
      "split                 object\n",
      "tag                  float64\n",
      "Anzahl_Vorkommen     float64\n",
      "dtype: object\n",
      "<class 'pandas.core.frame.DataFrame'>\n",
      "RangeIndex: 5468768 entries, 0 to 5468767\n",
      "Data columns (total 13 columns):\n",
      " #   Column            Dtype   \n",
      "---  ------            -----   \n",
      " 0   qid               object  \n",
      " 1   docno             object  \n",
      " 2   rank              int16   \n",
      " 3   score             float32 \n",
      " 4   name              category\n",
      " 5   id                object  \n",
      " 6   queryid           object  \n",
      " 7   text_en           float64 \n",
      " 8   query             object  \n",
      " 9   sub_collection    object  \n",
      " 10  split             object  \n",
      " 11  tag               float64 \n",
      " 12  Anzahl_Vorkommen  float64 \n",
      "dtypes: category(1), float32(1), float64(3), int16(1), object(7)\n",
      "memory usage: 453.7+ MB\n"
     ]
    }
   ],
   "source": [
    "print(Final_df.dtypes)\n",
    "\n",
    "\n",
    "Final_df.info()\n"
   ]
  },
  {
   "cell_type": "code",
   "execution_count": 17,
   "id": "6b444dc7-a9d5-454a-8c86-8884c33ab77f",
   "metadata": {},
   "outputs": [
    {
     "name": "stdout",
     "output_type": "stream",
     "text": [
      "         qid    docno  rank       name                                    id  \\\n",
      "315404  1000    12254     0  pyterrier  dad5fc7e-50db-4e96-bd0d-597e224c87ca   \n",
      "315405  1000  1641568     1  pyterrier  dad5fc7e-50db-4e96-bd0d-597e224c87ca   \n",
      "315406  1000  3376776     2  pyterrier  dad5fc7e-50db-4e96-bd0d-597e224c87ca   \n",
      "315407  1000  3391193     3  pyterrier  dad5fc7e-50db-4e96-bd0d-597e224c87ca   \n",
      "315408  1000  3384961     4  pyterrier  dad5fc7e-50db-4e96-bd0d-597e224c87ca   \n",
      "\n",
      "       queryid  text_en                     query sub_collection split  tag  \\\n",
      "315404    1000      NaN  ent mon bureau numerique        2023-03  test  0.2   \n",
      "315405    1000      NaN  ent mon bureau numerique        2023-03  test  0.2   \n",
      "315406    1000      NaN  ent mon bureau numerique        2023-03  test  0.2   \n",
      "315407    1000      NaN  ent mon bureau numerique        2023-03  test  0.2   \n",
      "315408    1000      NaN  ent mon bureau numerique        2023-03  test  0.2   \n",
      "\n",
      "        Anzahl_Vorkommen  rerank_score  \n",
      "315404              10.0     40.232505  \n",
      "315405               3.0     40.085300  \n",
      "315406               2.0     38.832423  \n",
      "315407               2.0     38.286070  \n",
      "315408               2.0     38.166529  \n"
     ]
    }
   ],
   "source": [
    "Final_df['Anzahl_Vorkommen'] = Final_df['Anzahl_Vorkommen'].clip(upper=15)\n",
    "\n",
    "Final_df['recency'] = 1 / (1 + np.log1p(Final_df['Anzahl_Vorkommen']))\n",
    "\n",
    "lam = 1.0\n",
    "Final_df['rerank_score'] = Final_df['score'] + lam * Final_df['tag'] * Final_df['recency']\n",
    "\n",
    "Final_df = Final_df.drop(columns=['score', 'recency'])\n",
    "\n",
    "Final_df = Final_df.sort_values(['qid','rerank_score'], ascending=[True,False])\n",
    "\n",
    "print(Final_df.head())\n",
    "\n",
    "\n"
   ]
  },
  {
   "cell_type": "code",
   "execution_count": null,
   "id": "974b7321-0146-48cf-9424-3dd037c30ae6",
   "metadata": {},
   "outputs": [],
   "source": [
    "\n"
   ]
  },
  {
   "cell_type": "code",
   "execution_count": 18,
   "id": "e5ed37c5-2cbf-4bb7-89c0-747cf5d10f55",
   "metadata": {},
   "outputs": [
    {
     "name": "stdout",
     "output_type": "stream",
     "text": [
      "Head of Final_df_for_evaluation:\n",
      "         qid    docno      score\n",
      "315404  1000    12254  40.232505\n",
      "315405  1000  1641568  40.085300\n",
      "315406  1000  3376776  38.832423\n",
      "315407  1000  3391193  38.286070\n",
      "315408  1000  3384961  38.166529\n",
      "...      ...      ...        ...\n",
      "315398   998  2675987  15.701060\n",
      "315400   998  1293841  15.684775\n",
      "315403   998  1908489  15.683617\n",
      "315401   998  3055126  15.681539\n",
      "315402   998   838659  15.677192\n",
      "\n",
      "[5468768 rows x 3 columns]\n",
      "\n",
      "Head of df_qrel:\n",
      "Empty DataFrame\n",
      "Columns: [relevance, qid, docno]\n",
      "Index: []\n"
     ]
    }
   ],
   "source": [
    "Final_df_for_evaluation = (\n",
    "    Final_df[['qid', 'docno', 'rerank_score']]\n",
    "    .rename(columns={'rerank_score': 'score'})\n",
    "    .copy()\n",
    ")\n",
    "Final_df_for_evaluation['qid']   = Final_df_for_evaluation['qid'].astype(str)\n",
    "Final_df_for_evaluation['docno'] = Final_df_for_evaluation['docno'].astype(str)\n",
    "Final_df_for_evaluation['score'] = Final_df_for_evaluation['score'].astype(float)\n",
    "\n",
    "\n",
    "df_qrel = df_qrel.rename(columns={'doc_id': 'docno', 'quer_id': 'qid'})\n",
    "df_qrel['docno'] = df_qrel['docno'].astype(str).str.replace('doc', '', regex=False)\n",
    "df_qrel['qid']   = df_qrel['qid'].astype(str)\n",
    "\n",
    "print(\"Head of Final_df_for_evaluation:\")\n",
    "print(Final_df_for_evaluation)\n",
    "\n",
    "print(\"\\nHead of df_qrel:\")\n",
    "print(df_qrel)\n"
   ]
  },
  {
   "cell_type": "code",
   "execution_count": 19,
   "id": "6a40558f-a702-4bd0-b928-ed93c6ec065b",
   "metadata": {},
   "outputs": [
    {
     "name": "stdout",
     "output_type": "stream",
     "text": [
      "Evaluationsergebnisse (Durchschnitt über alle Queries):\n",
      "map: nan\n",
      "ndcg_cut_10: nan\n",
      "recall_100: nan\n"
     ]
    }
   ],
   "source": [
    "df_qrel = df_qrel.rename(columns={\n",
    "    'quer_id':   'qid',\n",
    "    'doc_id':    'docno',\n",
    "    'relevance': 'label'\n",
    "})\n",
    "\n",
    "df_qrel['label'] = df_qrel['label'].astype(float).astype(int)\n",
    "\n",
    "df_qrel['qid']   = df_qrel['qid'].astype(str)\n",
    "df_qrel['docno'] = df_qrel['docno'].astype(str)\n",
    "\n",
    "Final_df_for_evaluation = Final_df[['qid', 'docno', 'rerank_score']].rename(\n",
    "    columns={'rerank_score': 'score'}\n",
    ").copy()\n",
    "Final_df_for_evaluation['qid']   = Final_df_for_evaluation['qid'].astype(str)\n",
    "Final_df_for_evaluation['docno'] = Final_df_for_evaluation['docno'].astype(str)\n",
    "Final_df_for_evaluation['score'] = Final_df_for_evaluation['score'].astype(float)\n",
    "\n",
    "results = pt.Evaluate(\n",
    "    res   = Final_df_for_evaluation,\n",
    "    qrels = df_qrel,\n",
    "    metrics = [\"map\", \"ndcg_cut_10\", \"recall_100\"],\n",
    "  \n",
    " \n",
    ")\n",
    "\n",
    "print(\"Evaluationsergebnisse (Durchschnitt über alle Queries):\")\n",
    "for metric, value in results.items():\n",
    "    print(f\"{metric}: {value:.4f}\")\n",
    "\n"
   ]
  },
  {
   "cell_type": "code",
   "execution_count": 20,
   "id": "82c9fca5-56f3-4ac5-9e2b-232ca56f6c07",
   "metadata": {},
   "outputs": [
    {
     "name": "stdout",
     "output_type": "stream",
     "text": [
      "Run-Datei geschrieben als trec_run_2023-08_2.run mit Top 1000-Ergebnissen je Query\n"
     ]
    }
   ],
   "source": [
    "run_name = 'tag'\n",
    "\n",
    "Final_df['rank'] = (\n",
    "    Final_df\n",
    "      .sort_values(['qid', 'rerank_score'], ascending=[True, False])\n",
    "      .groupby('qid')\n",
    "      .cumcount() + 1\n",
    ")\n",
    "\n",
    "run_df = Final_df[['qid', 'docno', 'rank', 'rerank_score']].copy()\n",
    "run_df['Q0']       = 'Q0'\n",
    "run_df['run_name'] = run_name\n",
    "\n",
    "run_df['docno'] = 'doc-' + run_df['docno'].astype(str)\n",
    "\n",
    "run_df = run_df[['qid', 'Q0', 'docno', 'rank', 'rerank_score', 'run_name']]\n",
    "\n",
    "max_rank = 1000\n",
    "run_df = run_df[run_df['rank'] <= max_rank]\n",
    "\n",
    "run_df.to_csv('trec_run_2023-03_final.run', sep=' ', header=False, index=False)\n",
    "\n",
    "print(f\"Run-Datei geschrieben als trec_run_2023-08_2.run mit Top {max_rank}-Ergebnissen je Query\")"
   ]
  },
  {
   "cell_type": "code",
   "execution_count": null,
   "id": "908ee631-92ce-4b8f-a011-bf746bd7c258",
   "metadata": {},
   "outputs": [],
   "source": []
  }
 ],
 "metadata": {
  "kernelspec": {
   "display_name": "Python 3 (ipykernel)",
   "language": "python",
   "name": "python3"
  },
  "language_info": {
   "codemirror_mode": {
    "name": "ipython",
    "version": 3
   },
   "file_extension": ".py",
   "mimetype": "text/x-python",
   "name": "python",
   "nbconvert_exporter": "python",
   "pygments_lexer": "ipython3",
   "version": "3.11.6"
  }
 },
 "nbformat": 4,
 "nbformat_minor": 5
}

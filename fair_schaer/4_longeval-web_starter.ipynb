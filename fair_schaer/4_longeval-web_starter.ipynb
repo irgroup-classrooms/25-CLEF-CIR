{
 "cells": [
  {
   "cell_type": "markdown",
   "id": "05d62ae8-1493-4a63-9007-e9a58dd3545c",
   "metadata": {},
   "source": [
    "# LongEval\n",
    "In diesem Notebook findet ihr einen einfachen starter um ein Retrieval System für den LongEval Shared Task aufzusetzen.\n",
    "\n",
    "Weitere Informationen findet ihr hier:\n",
    "- [Shared Task Website](https://clef-longeval.github.io/)\n",
    "- [Overview Paper 2024](http://www.zubiaga.org/publications/files/alkhalifa2024longeval-extended.pdf)\n",
    "- [Overview Paper 2023](http://www.zubiaga.org/publications/files/alkhalifa2023longeval-overview.pdf)\n",
    "- [LongEval Test Collection Paper](https://www.semanticscholar.org/reader/f40debce2b7caf35ea0730c27c5330989d20b300)\n",
    "\n",
    "Alle Datensätze findet ihr unter `datasets/LongEval`. PyTerrier Indexe für jeden Zeitpunkt mit der üblichen Preprocessing Pipeline findet ihr in `datasets/LongEval/index`. In der Datei `datasets/LongEval/metadata.yml` findet ihr Metadaten die euch gegebenenfalls helfen die Sub-Collections zu organisieren."
   ]
  },
  {
   "cell_type": "code",
   "execution_count": 1,
   "id": "20cd710c-de74-4327-a986-a54e80113098",
   "metadata": {},
   "outputs": [
    {
     "name": "stderr",
     "output_type": "stream",
     "text": [
      "Java started and loaded: pyterrier.java, pyterrier.terrier.java [version=5.11 (build: craig.macdonald 2025-01-13 21:29), helper_version=0.0.8]\n"
     ]
    }
   ],
   "source": [
    "import yaml\n",
    "import os\n",
    "import pandas as pd\n",
    "import numpy as np\n",
    "\n",
    "import pyterrier as pt\n",
    "if not pt.java.started():\n",
    "    pt.java.init()"
   ]
  },
  {
   "cell_type": "code",
   "execution_count": 2,
   "id": "4ed12d69-49fa-4523-b6f7-40151ebe1c5e",
   "metadata": {},
   "outputs": [],
   "source": [
    "from sqlalchemy import create_engine\n",
    "\n",
    "DATABASE = \"longeval-web\"\n",
    "USER = \"dis18\"\n",
    "HOST = \"db\"\n",
    "PORT = \"5432\"\n",
    "PASSWORD = \"dis182425\"\n",
    "\n",
    "engine = create_engine(f\"postgresql+psycopg2://{USER}:{PASSWORD}@{HOST}:{PORT}/{DATABASE}\")\n",
    "\n",
    "df = pd.read_sql('select * from \"Topic\" limit 1', con=engine)\n",
    "sql_query = lambda x: pd.read_sql(x, con=engine)"
   ]
  },
  {
   "cell_type": "code",
   "execution_count": 3,
   "id": "ba92fb09-eab2-40ac-a972-433ad7deab49",
   "metadata": {},
   "outputs": [],
   "source": [
    "dataset = \"longeval-web\"\n",
    "language = \"fr\"\n",
    "sub_collection = \"2023-03\""
   ]
  },
  {
   "cell_type": "code",
   "execution_count": 4,
   "id": "2b08c716-3218-49b2-9a3b-6400f2929a1d",
   "metadata": {},
   "outputs": [],
   "source": [
    "BASE_PATH = \"/home/jovyan/work/datasets/LongEval-Web\"\n",
    "\n",
    "with open(BASE_PATH + \"/metadata.yml\", \"r\") as yamlfile:\n",
    "    config = yaml.load(yamlfile, Loader=yaml.FullLoader)"
   ]
  },
  {
   "cell_type": "code",
   "execution_count": 5,
   "id": "f8752e7b-2906-4ee8-8d51-275ffe61048b",
   "metadata": {},
   "outputs": [],
   "source": [
    "index_path = os.path.join(\".\", BASE_PATH, f\"index/{dataset}-{language}-{sub_collection}-pyterrier\")\n",
    "topics_path = os.path.join(BASE_PATH, \"release_2025_p1/French/queries.txt\")"
   ]
  },
  {
   "cell_type": "code",
   "execution_count": 6,
   "id": "0eaae643-2cfb-444d-b43f-46d7a665c7ac",
   "metadata": {},
   "outputs": [],
   "source": [
    "q_topics = f\"\"\"\n",
    "select distinct b.queryid qid, b.text_fr query\n",
    "from \"Qrel\" a \n",
    "join  (\n",
    "        select  *\n",
    "        from    \"Topic\"\n",
    "      ) b\n",
    "      on      a.queryid = b.queryid\n",
    "join (\n",
    "        select distinct docid\n",
    "        from   \"Document\"\n",
    "        where  sub_collection = '{sub_collection}'\n",
    "      )c\n",
    "      on ('doc' || a.docid) = c.docid\n",
    "where a.sub_collection = '{sub_collection}' \n",
    "\"\"\"\n",
    "q_topics_sub_collection = f\"\"\"\n",
    "                select distinct a.queryid qid, a.text_{language} query \n",
    "                from \"Topic\" a \n",
    "                where sub_collection = '{sub_collection}'\n",
    "                group by a.queryid, a.text_{language} \n",
    "                \"\"\"\n",
    "\n",
    "\n",
    "topics = sql_query(q_topics_sub_collection)\n",
    "#topics = pd.read_csv(topics_path, sep=\"\\t\", names=[\"qid\", \"query\"])\n",
    "topics[\"qid\"] = topics[\"qid\"].astype(str)\n",
    "\n",
    "topics[\"query\"] = topics[\"query\"].str.replace(\"'\", \"\")\n",
    "topics[\"query\"] = topics[\"query\"].str.replace(\"*\", \"\")\n",
    "topics[\"query\"] = topics[\"query\"].str.replace(\"/\", \"\")\n",
    "topics[\"query\"] = topics[\"query\"].str.replace(\":\", \"\")\n",
    "topics[\"query\"] = topics[\"query\"].str.replace(\"?\", \"\")\n",
    "topics[\"query\"] = topics[\"query\"].str.replace(\")\", \"\")\n",
    "topics[\"query\"] = topics[\"query\"].str.replace(\"(\", \"\")\n",
    "topics[\"query\"] = topics[\"query\"].str.replace(\"+\", \"\")\n",
    "spam = [\"59769\", \"6060\", \"75200\", \"74351\", \"67599\", \"74238\", \"74207\", \"75100\", \"58130\"]\n",
    "topics = topics[~topics[\"qid\"].isin(spam)]"
   ]
  },
  {
   "cell_type": "code",
   "execution_count": 7,
   "id": "a9cd518e-71f7-4234-8326-68f7f5df7f9b",
   "metadata": {},
   "outputs": [
    {
     "name": "stdout",
     "output_type": "stream",
     "text": [
      "18:45:02.400 [main] WARN org.terrier.structures.BaseCompressingMetaIndex -- Structure meta reading data file directly from disk (SLOW) - try index.meta.data-source=fileinmem in the index properties file. 4.3 GiB of memory would be required.\n"
     ]
    }
   ],
   "source": [
    "index = pt.IndexFactory.of(index_path)"
   ]
  },
  {
   "cell_type": "markdown",
   "id": "4b7fc5bd-6d97-4c18-9f3b-88c6dbde15d2",
   "metadata": {},
   "source": [
    "### Run Erstellen"
   ]
  },
  {
   "cell_type": "code",
   "execution_count": 10,
   "id": "317a6223-8a2c-42d1-82b2-3c8671510b77",
   "metadata": {},
   "outputs": [],
   "source": [
    "BM25 = pt.terrier.Retriever(index, wmodel=\"BM25\", verbose=True)"
   ]
  },
  {
   "cell_type": "code",
   "execution_count": 11,
   "id": "7def6892-557a-4700-af77-1ea45ceafce9",
   "metadata": {},
   "outputs": [
    {
     "name": "stdout",
     "output_type": "stream",
     "text": [
      ">>> Loaded index with 2028979 documents.\n"
     ]
    }
   ],
   "source": [
    "print(\">>> Loaded index with\", index.getCollectionStatistics().getNumberOfDocuments(), \"documents.\")"
   ]
  },
  {
   "cell_type": "code",
   "execution_count": 12,
   "id": "6e68160b-d119-4e79-941f-432accb5da62",
   "metadata": {},
   "outputs": [
    {
     "name": "stderr",
     "output_type": "stream",
     "text": [
      "TerrierRetr(BM25): 100%|██████████| 10/10 [00:05<00:00,  1.74q/s]\n"
     ]
    }
   ],
   "source": [
    "run = BM25.transform(topics.sample(n=10, random_state=1)) # we take only 10 queries for a test"
   ]
  },
  {
   "cell_type": "code",
   "execution_count": 13,
   "id": "323d59b7-c715-43cc-b73c-a1159ed6644b",
   "metadata": {},
   "outputs": [
    {
     "data": {
      "text/html": [
       "<div>\n",
       "<style scoped>\n",
       "    .dataframe tbody tr th:only-of-type {\n",
       "        vertical-align: middle;\n",
       "    }\n",
       "\n",
       "    .dataframe tbody tr th {\n",
       "        vertical-align: top;\n",
       "    }\n",
       "\n",
       "    .dataframe thead th {\n",
       "        text-align: right;\n",
       "    }\n",
       "</style>\n",
       "<table border=\"1\" class=\"dataframe\">\n",
       "  <thead>\n",
       "    <tr style=\"text-align: right;\">\n",
       "      <th></th>\n",
       "      <th>qid</th>\n",
       "      <th>docid</th>\n",
       "      <th>docno</th>\n",
       "      <th>rank</th>\n",
       "      <th>score</th>\n",
       "      <th>query</th>\n",
       "    </tr>\n",
       "  </thead>\n",
       "  <tbody>\n",
       "    <tr>\n",
       "      <th>0</th>\n",
       "      <td>54508</td>\n",
       "      <td>1066639</td>\n",
       "      <td>772636</td>\n",
       "      <td>0</td>\n",
       "      <td>32.574383</td>\n",
       "      <td>petrole leclerc</td>\n",
       "    </tr>\n",
       "    <tr>\n",
       "      <th>1</th>\n",
       "      <td>54508</td>\n",
       "      <td>205322</td>\n",
       "      <td>1646120</td>\n",
       "      <td>1</td>\n",
       "      <td>32.469047</td>\n",
       "      <td>petrole leclerc</td>\n",
       "    </tr>\n",
       "    <tr>\n",
       "      <th>2</th>\n",
       "      <td>54508</td>\n",
       "      <td>1493231</td>\n",
       "      <td>1699378</td>\n",
       "      <td>2</td>\n",
       "      <td>32.078767</td>\n",
       "      <td>petrole leclerc</td>\n",
       "    </tr>\n",
       "    <tr>\n",
       "      <th>3</th>\n",
       "      <td>54508</td>\n",
       "      <td>200122</td>\n",
       "      <td>2322267</td>\n",
       "      <td>3</td>\n",
       "      <td>28.259876</td>\n",
       "      <td>petrole leclerc</td>\n",
       "    </tr>\n",
       "    <tr>\n",
       "      <th>4</th>\n",
       "      <td>54508</td>\n",
       "      <td>1582692</td>\n",
       "      <td>3450018</td>\n",
       "      <td>4</td>\n",
       "      <td>28.022994</td>\n",
       "      <td>petrole leclerc</td>\n",
       "    </tr>\n",
       "    <tr>\n",
       "      <th>...</th>\n",
       "      <td>...</td>\n",
       "      <td>...</td>\n",
       "      <td>...</td>\n",
       "      <td>...</td>\n",
       "      <td>...</td>\n",
       "      <td>...</td>\n",
       "    </tr>\n",
       "    <tr>\n",
       "      <th>9600</th>\n",
       "      <td>54038</td>\n",
       "      <td>1943209</td>\n",
       "      <td>2960578</td>\n",
       "      <td>995</td>\n",
       "      <td>13.813258</td>\n",
       "      <td>jean paul rappeneau</td>\n",
       "    </tr>\n",
       "    <tr>\n",
       "      <th>9601</th>\n",
       "      <td>54038</td>\n",
       "      <td>1535301</td>\n",
       "      <td>3139347</td>\n",
       "      <td>996</td>\n",
       "      <td>13.812507</td>\n",
       "      <td>jean paul rappeneau</td>\n",
       "    </tr>\n",
       "    <tr>\n",
       "      <th>9602</th>\n",
       "      <td>54038</td>\n",
       "      <td>1549692</td>\n",
       "      <td>3060982</td>\n",
       "      <td>997</td>\n",
       "      <td>13.810782</td>\n",
       "      <td>jean paul rappeneau</td>\n",
       "    </tr>\n",
       "    <tr>\n",
       "      <th>9603</th>\n",
       "      <td>54038</td>\n",
       "      <td>576750</td>\n",
       "      <td>2605088</td>\n",
       "      <td>998</td>\n",
       "      <td>13.806885</td>\n",
       "      <td>jean paul rappeneau</td>\n",
       "    </tr>\n",
       "    <tr>\n",
       "      <th>9604</th>\n",
       "      <td>54038</td>\n",
       "      <td>1264413</td>\n",
       "      <td>2666757</td>\n",
       "      <td>999</td>\n",
       "      <td>13.805545</td>\n",
       "      <td>jean paul rappeneau</td>\n",
       "    </tr>\n",
       "  </tbody>\n",
       "</table>\n",
       "<p>9605 rows × 6 columns</p>\n",
       "</div>"
      ],
      "text/plain": [
       "        qid    docid    docno  rank      score                query\n",
       "0     54508  1066639   772636     0  32.574383      petrole leclerc\n",
       "1     54508   205322  1646120     1  32.469047      petrole leclerc\n",
       "2     54508  1493231  1699378     2  32.078767      petrole leclerc\n",
       "3     54508   200122  2322267     3  28.259876      petrole leclerc\n",
       "4     54508  1582692  3450018     4  28.022994      petrole leclerc\n",
       "...     ...      ...      ...   ...        ...                  ...\n",
       "9600  54038  1943209  2960578   995  13.813258  jean paul rappeneau\n",
       "9601  54038  1535301  3139347   996  13.812507  jean paul rappeneau\n",
       "9602  54038  1549692  3060982   997  13.810782  jean paul rappeneau\n",
       "9603  54038   576750  2605088   998  13.806885  jean paul rappeneau\n",
       "9604  54038  1264413  2666757   999  13.805545  jean paul rappeneau\n",
       "\n",
       "[9605 rows x 6 columns]"
      ]
     },
     "execution_count": 13,
     "metadata": {},
     "output_type": "execute_result"
    }
   ],
   "source": [
    "run"
   ]
  },
  {
   "cell_type": "code",
   "execution_count": 11,
   "id": "1c0ca1fe-ed26-4cc6-abbe-0cc65c5b90f5",
   "metadata": {},
   "outputs": [
    {
     "name": "stdout",
     "output_type": "stream",
     "text": [
      "Empty DataFrame\n",
      "Columns: [queryid, text_en, text_fr, sub_collection, split, token_stem, category, cluster]\n",
      "Index: []\n"
     ]
    }
   ],
   "source": [
    "# Load cluster\n",
    "f_cluster = \"topics_cluster_all_subcollections.csv\"\n",
    "df_cluster = pd.read_csv(f_cluster)\n",
    "df_cluster = df_cluster.astype({\"queryid\":\"string\"})\n",
    "print(df_cluster.loc[df_cluster[\"queryid\"]==43207])\n",
    "cluster_map = df_cluster.set_index(\"queryid\")[\"cluster\"]\n",
    "\n",
    "# Create Mapping for queryid and docs\n",
    "map_qid_docid = run.set_index(\"qid\")[\"docno\"]"
   ]
  },
  {
   "cell_type": "code",
   "execution_count": 12,
   "id": "d08b6ef9-cfdf-4006-8b56-dd9bcad7a16e",
   "metadata": {},
   "outputs": [],
   "source": [
    "# Drop copy run and transform for prediction\n",
    "predict_run = run.loc[:,[\"qid\", \"docno\"]].copy()\n",
    "predict_run[\"real_cluster\"] = predict_run[\"qid\"].map(cluster_map)\n",
    "docid_export = predict_run.drop(columns=[\"qid\"])\n",
    "docid_export = predict_run.drop_duplicates()\n",
    "docid_export.to_csv(\"run_docids.csv\", index=False)"
   ]
  },
  {
   "cell_type": "markdown",
   "id": "1dbe58d4-76fb-491b-a1cf-162f1f3c9fda",
   "metadata": {},
   "source": [
    "**ATTENTION**\n",
    "Use following next and continue after:\n",
    "\n",
    "1.  [create predictset](5_mw_create_predictset_docidlist.ipynb)\n",
    "2.  [predict cluster & relevance](6_mw_predict_cluster_relevance.ipynb)\n",
    "\n",
    "(just start the whole kernel once, as of now... changes maybe later)"
   ]
  },
  {
   "cell_type": "code",
   "execution_count": 14,
   "id": "cbbd63f2-5efe-4f81-898f-9de030bffae6",
   "metadata": {},
   "outputs": [],
   "source": [
    "# Get predicted cluster and relevance\n",
    "f_path = \"docs_pred.csv\"\n",
    "df_pred_cluster_rel = pd.read_csv(f_path)\n",
    "df_pred_cluster_rel.drop_duplicates(inplace=True)\n",
    "\n",
    "# create mappings to assign to run for readjusting\n",
    "cluster_pred = df_pred_cluster_rel.set_index(\"docid\")[\"cluster_pred\"]\n",
    "rel_pred = df_pred_cluster_rel.set_index(\"docid\")[\"rel_pred\"]\n",
    "\n",
    "run[\"real_cluster\"] = run[\"qid\"].map(cluster_map)\n",
    "run[\"pred_cluster\"] = run[\"docno\"].map(cluster_pred)\n",
    "run[\"pred_cluster\"] = run[\"pred_cluster\"].fillna(-1).astype(\"int64\")\n",
    "cluster_cond = (run[\"pred_cluster\"]!=-1) & (run[\"real_cluster\"]==run[\"pred_cluster\"])\n",
    "run.loc[cluster_cond, [\"rel_pred\"]]= run[\"docno\"].map(rel_pred)\n",
    "run.loc[run[\"rel_pred\"].isna(),[\"rel_pred\"]] = 1"
   ]
  },
  {
   "cell_type": "code",
   "execution_count": 15,
   "id": "4767e930-1a8d-4c6f-ae7a-8464e8480360",
   "metadata": {},
   "outputs": [
    {
     "name": "stdout",
     "output_type": "stream",
     "text": [
      "         qid    docid       docno  rank      score             query  \\\n",
      "29414    995  1925382  doc2857754     0  42.101296  enseirb bordeaux   \n",
      "29415    995  1852443   doc544715     1  39.443090  enseirb bordeaux   \n",
      "29416    995  1621557  doc1677047     2  38.560717  enseirb bordeaux   \n",
      "29417    995   649192  doc2056515     3  36.703032  enseirb bordeaux   \n",
      "29418    995   877090  doc2069100     4  36.703032  enseirb bordeaux   \n",
      "...      ...      ...         ...   ...        ...               ...   \n",
      "171151  1026  1474851  doc1771635   995   0.207065        espace caf   \n",
      "170966  1026    73930   doc604794   996   0.145379        espace caf   \n",
      "170911  1026  1566925  doc1891122   997   0.087496        espace caf   \n",
      "170679  1026    35609   doc180801   998   0.052369        espace caf   \n",
      "170801  1026  1045322  doc1804982   999   0.013975        espace caf   \n",
      "\n",
      "        real_cluster  pred_cluster  rel_pred  \n",
      "29414              8             4  1.000000  \n",
      "29415              8            22  1.000000  \n",
      "29416              8             4  1.000000  \n",
      "29417              8            22  1.000000  \n",
      "29418              8            22  1.000000  \n",
      "...              ...           ...       ...  \n",
      "171151            42            42  0.015614  \n",
      "170966            42            42  0.010788  \n",
      "170911            42            42  0.006373  \n",
      "170679            42            42  0.003423  \n",
      "170801            42            42  0.000992  \n",
      "\n",
      "[192656 rows x 9 columns]\n"
     ]
    }
   ],
   "source": [
    "# rerank with pred_rel factor\n",
    "\n",
    "run[\"score\"] = run[\"score\"] * run[\"rel_pred\"]\n",
    "#print(run)\n",
    "run.sort_values(by=[\"qid\", \"score\"], inplace=True, ascending=False)\n",
    "run[\"rank\"] = run.groupby(\"qid\").cumcount() # thank you claude.ai <3\n",
    "#run[\"docid\"] = run[\"docno\"][3:]\n",
    "print(run)"
   ]
  },
  {
   "cell_type": "markdown",
   "id": "77258d8b-cb51-4f03-93c2-2226f1c5a356",
   "metadata": {},
   "source": [
    "# Run Laden \n",
    "Erstellen eines Runs für alle Topics dauert sehr lange. Alternativ könnt ihr auch einen BM25 Baseline Run laden und eure Ansätze als Re-Ranking implementieren."
   ]
  },
  {
   "cell_type": "code",
   "execution_count": 16,
   "id": "78a18f5c-7a44-48fa-8ee0-1240ad2f74fd",
   "metadata": {},
   "outputs": [],
   "source": [
    "run_base = pt.io.read_results(f\"{BASE_PATH}/runs/{dataset}-{language}-{sub_collection}-BM25.gz\")\n",
    "run_base[\"docno\"] = run_base[\"docno\"].str.strip(\"doc\")  # the indexed documents prefix the docid with `doc`, this needs to be removed"
   ]
  },
  {
   "cell_type": "code",
   "execution_count": 17,
   "id": "bc6df762-059b-4a41-8b0f-246abebc6b22",
   "metadata": {},
   "outputs": [],
   "source": [
    "qid_map = {f\"{qid}\":1 for qid in run[\"qid\"].drop_duplicates().tolist() }\n",
    "run_base[\"qid_bool\"] = run_base[\"qid\"].map(qid_map)\n",
    "run_base_small = run_base.dropna(subset=[\"qid_bool\"])"
   ]
  },
  {
   "cell_type": "markdown",
   "id": "66825061-8407-442a-9af5-02ac572eac73",
   "metadata": {},
   "source": [
    "# System Evaluieren"
   ]
  },
  {
   "cell_type": "code",
   "execution_count": 18,
   "id": "23b731a2-cdff-4379-8a8d-f5ef5b729ef9",
   "metadata": {},
   "outputs": [
    {
     "data": {
      "text/plain": [
       "(199,)"
      ]
     },
     "execution_count": 18,
     "metadata": {},
     "output_type": "execute_result"
    }
   ],
   "source": [
    "run_base_small[\"qid\"].unique().shape"
   ]
  },
  {
   "cell_type": "code",
   "execution_count": 19,
   "id": "70dabe4c-6be3-4114-a51a-acf82bd56c3d",
   "metadata": {},
   "outputs": [],
   "source": [
    "q_qrels = f\"\"\"\n",
    "select a.queryid qid, a.docid docno, cast(a.relevance as int) label\n",
    "from \"Qrel\" a \n",
    "join  (\n",
    "        select  *\n",
    "        from    \"Topic\"\n",
    "      ) b\n",
    "      on      a.queryid = b.queryid\n",
    "join (\n",
    "        select distinct docid\n",
    "        from   \"Document\"\n",
    "        where  sub_collection = '{sub_collection}'\n",
    "      )c\n",
    "      on ('doc' || a.docid) = c.docid\n",
    "where a.sub_collection = '{sub_collection}' \n",
    "\"\"\"\n",
    "\n",
    "qrels = sql_query(q_qrels)\n",
    "#qrels = pt.io.read_qrels(BASE_PATH + f\"/release_2025_p1/French/LongEval Train Collection/qrels/{sub_collection}_{language}/qrels_processed.txt\")"
   ]
  },
  {
   "cell_type": "code",
   "execution_count": 20,
   "id": "618862f4-e9d3-45a8-86c6-8bdaaae693b3",
   "metadata": {},
   "outputs": [
    {
     "name": "stdout",
     "output_type": "stream",
     "text": [
      "['qid', 'docno', 'label']\n"
     ]
    }
   ],
   "source": [
    "print(qrels.columns.tolist())"
   ]
  },
  {
   "cell_type": "code",
   "execution_count": 21,
   "id": "f4b03a27-9c12-4c27-9587-8b346a93db5c",
   "metadata": {},
   "outputs": [],
   "source": [
    "run[\"docno\"] = run[\"docno\"].str.strip(\"doc\")  # the indexed documents prefix the docid with `doc`, this needs to be removed"
   ]
  },
  {
   "cell_type": "code",
   "execution_count": 22,
   "id": "4d603994-1c0d-4172-b41e-819c4c886fe6",
   "metadata": {},
   "outputs": [
    {
     "name": "stderr",
     "output_type": "stream",
     "text": [
      "pt.Experiment: 100%|██████████| 2/2 [00:01<00:00,  1.52system/s]\n"
     ]
    },
    {
     "data": {
      "text/html": [
       "<div>\n",
       "<style scoped>\n",
       "    .dataframe tbody tr th:only-of-type {\n",
       "        vertical-align: middle;\n",
       "    }\n",
       "\n",
       "    .dataframe tbody tr th {\n",
       "        vertical-align: top;\n",
       "    }\n",
       "\n",
       "    .dataframe thead th {\n",
       "        text-align: right;\n",
       "    }\n",
       "</style>\n",
       "<table border=\"1\" class=\"dataframe\">\n",
       "  <thead>\n",
       "    <tr style=\"text-align: right;\">\n",
       "      <th></th>\n",
       "      <th>name</th>\n",
       "      <th>bpref</th>\n",
       "      <th>map</th>\n",
       "      <th>ndcg</th>\n",
       "      <th>ndcg_cut_10</th>\n",
       "      <th>P.10</th>\n",
       "    </tr>\n",
       "  </thead>\n",
       "  <tbody>\n",
       "    <tr>\n",
       "      <th>0</th>\n",
       "      <td>qid    docno  rank      score     ...</td>\n",
       "      <td>0.014616</td>\n",
       "      <td>0.006882</td>\n",
       "      <td>0.010290</td>\n",
       "      <td>0.00817</td>\n",
       "      <td>0.002038</td>\n",
       "    </tr>\n",
       "    <tr>\n",
       "      <th>1</th>\n",
       "      <td>qid    docno  rank      score\\n29414 ...</td>\n",
       "      <td>0.016656</td>\n",
       "      <td>0.007946</td>\n",
       "      <td>0.011343</td>\n",
       "      <td>0.00910</td>\n",
       "      <td>0.002183</td>\n",
       "    </tr>\n",
       "  </tbody>\n",
       "</table>\n",
       "</div>"
      ],
      "text/plain": [
       "                                                name     bpref       map  \\\n",
       "0              qid    docno  rank      score     ...  0.014616  0.006882   \n",
       "1           qid    docno  rank      score\\n29414 ...  0.016656  0.007946   \n",
       "\n",
       "       ndcg  ndcg_cut_10      P.10  \n",
       "0  0.010290      0.00817  0.002038  \n",
       "1  0.011343      0.00910  0.002183  "
      ]
     },
     "execution_count": 22,
     "metadata": {},
     "output_type": "execute_result"
    }
   ],
   "source": [
    "cols = [\"qid\", \"docno\", \"rank\", \"score\"]\n",
    "run_eval = run[cols]\n",
    "pt.Experiment(\n",
    "    [run_base_small, run_eval],\n",
    "    topics,\n",
    "    qrels,\n",
    "    eval_metrics=[\"bpref\", \"map\", \"ndcg\", \"ndcg_cut_10\", \"P.10\"],\n",
    "    verbose=True\n",
    ")"
   ]
  },
  {
   "cell_type": "code",
   "execution_count": 23,
   "id": "f2b0f3c2-4924-4f6c-aab1-654506e9f6a9",
   "metadata": {},
   "outputs": [
    {
     "name": "stdout",
     "output_type": "stream",
     "text": [
      "            qid    docno  rank      score                              name  \\\n",
      "0             2   581746     0  26.356897  CIR-longeval-web-fr-2023-02-BM25   \n",
      "1             2  2246696     1  20.328055  CIR-longeval-web-fr-2023-02-BM25   \n",
      "2             2  3139049     2  19.755776  CIR-longeval-web-fr-2023-02-BM25   \n",
      "3             2  2605959     3  18.974690  CIR-longeval-web-fr-2023-02-BM25   \n",
      "4             2  3067242     4  16.374459  CIR-longeval-web-fr-2023-02-BM25   \n",
      "...         ...      ...   ...        ...                               ...   \n",
      "53000446  75427  2078031   995  11.124785  CIR-longeval-web-fr-2023-02-BM25   \n",
      "53000447  75427   240537   996  11.121439  CIR-longeval-web-fr-2023-02-BM25   \n",
      "53000448  75427  1811249   997  11.120463  CIR-longeval-web-fr-2023-02-BM25   \n",
      "53000449  75427   742355   998  11.119224  CIR-longeval-web-fr-2023-02-BM25   \n",
      "53000450  75427   198709   999  11.118625  CIR-longeval-web-fr-2023-02-BM25   \n",
      "\n",
      "          qid_bool  \n",
      "0              NaN  \n",
      "1              NaN  \n",
      "2              NaN  \n",
      "3              NaN  \n",
      "4              NaN  \n",
      "...            ...  \n",
      "53000446       NaN  \n",
      "53000447       NaN  \n",
      "53000448       NaN  \n",
      "53000449       NaN  \n",
      "53000450       NaN  \n",
      "\n",
      "[53000451 rows x 6 columns]\n"
     ]
    }
   ],
   "source": [
    "print(run_base)"
   ]
  },
  {
   "cell_type": "code",
   "execution_count": 24,
   "id": "654a0912-d25f-4fc0-a41a-dcdd792d1a35",
   "metadata": {},
   "outputs": [
    {
     "name": "stderr",
     "output_type": "stream",
     "text": [
      "pt.Experiment: 100%|██████████| 2/2 [00:01<00:00,  1.55system/s]\n"
     ]
    },
    {
     "data": {
      "text/html": [
       "<div>\n",
       "<style scoped>\n",
       "    .dataframe tbody tr th:only-of-type {\n",
       "        vertical-align: middle;\n",
       "    }\n",
       "\n",
       "    .dataframe tbody tr th {\n",
       "        vertical-align: top;\n",
       "    }\n",
       "\n",
       "    .dataframe thead th {\n",
       "        text-align: right;\n",
       "    }\n",
       "</style>\n",
       "<table border=\"1\" class=\"dataframe\">\n",
       "  <thead>\n",
       "    <tr style=\"text-align: right;\">\n",
       "      <th></th>\n",
       "      <th>name</th>\n",
       "      <th>qid</th>\n",
       "      <th>measure</th>\n",
       "      <th>value</th>\n",
       "    </tr>\n",
       "  </thead>\n",
       "  <tbody>\n",
       "    <tr>\n",
       "      <th>199</th>\n",
       "      <td>qid    docno  rank      score     ...</td>\n",
       "      <td>10</td>\n",
       "      <td>ndcg</td>\n",
       "      <td>0.0</td>\n",
       "    </tr>\n",
       "    <tr>\n",
       "      <th>200</th>\n",
       "      <td>qid    docno  rank      score     ...</td>\n",
       "      <td>100</td>\n",
       "      <td>ndcg</td>\n",
       "      <td>0.0</td>\n",
       "    </tr>\n",
       "    <tr>\n",
       "      <th>201</th>\n",
       "      <td>qid    docno  rank      score     ...</td>\n",
       "      <td>1000</td>\n",
       "      <td>ndcg</td>\n",
       "      <td>0.0</td>\n",
       "    </tr>\n",
       "    <tr>\n",
       "      <th>202</th>\n",
       "      <td>qid    docno  rank      score     ...</td>\n",
       "      <td>1001</td>\n",
       "      <td>ndcg</td>\n",
       "      <td>0.0</td>\n",
       "    </tr>\n",
       "    <tr>\n",
       "      <th>203</th>\n",
       "      <td>qid    docno  rank      score     ...</td>\n",
       "      <td>1002</td>\n",
       "      <td>ndcg</td>\n",
       "      <td>0.0</td>\n",
       "    </tr>\n",
       "    <tr>\n",
       "      <th>...</th>\n",
       "      <td>...</td>\n",
       "      <td>...</td>\n",
       "      <td>...</td>\n",
       "      <td>...</td>\n",
       "    </tr>\n",
       "    <tr>\n",
       "      <th>9614</th>\n",
       "      <td>qid    docno  rank      score\\n29414 ...</td>\n",
       "      <td>993</td>\n",
       "      <td>ndcg</td>\n",
       "      <td>0.0</td>\n",
       "    </tr>\n",
       "    <tr>\n",
       "      <th>4809</th>\n",
       "      <td>qid    docno  rank      score\\n29414 ...</td>\n",
       "      <td>995</td>\n",
       "      <td>ndcg</td>\n",
       "      <td>0.0</td>\n",
       "    </tr>\n",
       "    <tr>\n",
       "      <th>9615</th>\n",
       "      <td>qid    docno  rank      score\\n29414 ...</td>\n",
       "      <td>996</td>\n",
       "      <td>ndcg</td>\n",
       "      <td>0.0</td>\n",
       "    </tr>\n",
       "    <tr>\n",
       "      <th>9616</th>\n",
       "      <td>qid    docno  rank      score\\n29414 ...</td>\n",
       "      <td>997</td>\n",
       "      <td>ndcg</td>\n",
       "      <td>0.0</td>\n",
       "    </tr>\n",
       "    <tr>\n",
       "      <th>9617</th>\n",
       "      <td>qid    docno  rank      score\\n29414 ...</td>\n",
       "      <td>999</td>\n",
       "      <td>ndcg</td>\n",
       "      <td>0.0</td>\n",
       "    </tr>\n",
       "  </tbody>\n",
       "</table>\n",
       "<p>9618 rows × 4 columns</p>\n",
       "</div>"
      ],
      "text/plain": [
       "                                                   name   qid measure  value\n",
       "199               qid    docno  rank      score     ...    10    ndcg    0.0\n",
       "200               qid    docno  rank      score     ...   100    ndcg    0.0\n",
       "201               qid    docno  rank      score     ...  1000    ndcg    0.0\n",
       "202               qid    docno  rank      score     ...  1001    ndcg    0.0\n",
       "203               qid    docno  rank      score     ...  1002    ndcg    0.0\n",
       "...                                                 ...   ...     ...    ...\n",
       "9614           qid    docno  rank      score\\n29414 ...   993    ndcg    0.0\n",
       "4809           qid    docno  rank      score\\n29414 ...   995    ndcg    0.0\n",
       "9615           qid    docno  rank      score\\n29414 ...   996    ndcg    0.0\n",
       "9616           qid    docno  rank      score\\n29414 ...   997    ndcg    0.0\n",
       "9617           qid    docno  rank      score\\n29414 ...   999    ndcg    0.0\n",
       "\n",
       "[9618 rows x 4 columns]"
      ]
     },
     "execution_count": 24,
     "metadata": {},
     "output_type": "execute_result"
    }
   ],
   "source": [
    "cols = [\"qid\", \"docno\", \"rank\", \"score\"]\n",
    "run_eval = run[cols]\n",
    "df_res = pt.Experiment(\n",
    "    [run_base_small, run_eval],\n",
    "    topics,\n",
    "    qrels,\n",
    "    eval_metrics=[\"ndcg\"],#[\"bpref\", \"map\", \"ndcg\", \"ndcg_cut_10\", \"P.10\"],\n",
    "    verbose=True,\n",
    "    perquery=True,\n",
    ")\n",
    "df_res"
   ]
  },
  {
   "cell_type": "code",
   "execution_count": null,
   "id": "5883ca80-416f-4ea4-a120-1c6660eba083",
   "metadata": {},
   "outputs": [],
   "source": []
  }
 ],
 "metadata": {
  "kernelspec": {
   "display_name": "Python 3 (ipykernel)",
   "language": "python",
   "name": "python3"
  },
  "language_info": {
   "codemirror_mode": {
    "name": "ipython",
    "version": 3
   },
   "file_extension": ".py",
   "mimetype": "text/x-python",
   "name": "python",
   "nbconvert_exporter": "python",
   "pygments_lexer": "ipython3",
   "version": "3.11.6"
  }
 },
 "nbformat": 4,
 "nbformat_minor": 5
}
